{
 "cells": [
  {
   "cell_type": "markdown",
   "metadata": {},
   "source": [
    "# Shivang Arya\n",
    "# Rutwick Bhawsar\n",
    "# Project 1 : Summer 2019\n",
    "\n",
    "We have created 6 tables for our application. Please refer the ER Diagram below.\n",
    "We have written 15 major functions in Python for our SQLite Database.\n",
    "These are the 15 functions: \n",
    " 1. Add user \n",
    " 2. Create Event \n",
    " 3. Register user for event \n",
    " 4. Remove event (admin only) \n",
    " 5. Show timeslots for a venue \n",
    " 6. Show venues for a timeslot\n",
    " 7. Show events for a venue at a given date and time\n",
    " 8. Add venue (admin only) \n",
    " 9. Show events of a particular type \n",
    " 10. Show events near a zip code \n",
    " 11. Show all events at a particular date&time \n",
    " 12. Show all people registered for an event (event creator only)\n",
    " 13. Delete user (Admin only) \n",
    " 14. Unregister from Event \n",
    " 15. Show Venues near a Zipcode 15\n",
    "\n",
    "Along with this we have also created a mini-interface at the very end of the Notebook. Please feel free to use that to interact with our tables and functions as well."
   ]
  },
  {
   "cell_type": "markdown",
   "metadata": {},
   "source": [
    "![ERD](Project1ERDiagram.jpg)"
   ]
  },
  {
   "cell_type": "code",
   "execution_count": 2,
   "metadata": {
    "collapsed": true
   },
   "outputs": [],
   "source": [
    "import sqlite3\n",
    "import pandas as pd\n",
    "import csv"
   ]
  },
  {
   "cell_type": "code",
   "execution_count": 3,
   "metadata": {
    "collapsed": true
   },
   "outputs": [],
   "source": [
    "db=sqlite3.connect(\"C:/Users/aryas_000/Advanced-Programming-and-App-Development/Project1.db\")"
   ]
  },
  {
   "cell_type": "code",
   "execution_count": 4,
   "metadata": {
    "collapsed": true
   },
   "outputs": [],
   "source": [
    "cursor = db.cursor()"
   ]
  },
  {
   "cell_type": "code",
   "execution_count": 22,
   "metadata": {},
   "outputs": [
    {
     "data": {
      "text/plain": [
       "<sqlite3.Cursor at 0x187455ac030>"
      ]
     },
     "execution_count": 22,
     "metadata": {},
     "output_type": "execute_result"
    }
   ],
   "source": [
    "cursor.execute(('''    CREATE TABLE if NOT EXISTS Venue (venueid INTEGER PRIMARY KEY, venuename TEXT,\n",
    "                       location TEXT, zipcode INTEGER, fees INTEGER) '''))"
   ]
  },
  {
   "cell_type": "code",
   "execution_count": null,
   "metadata": {
    "collapsed": true
   },
   "outputs": [],
   "source": [
    "db.commit()"
   ]
  },
  {
   "cell_type": "code",
   "execution_count": 24,
   "metadata": {},
   "outputs": [
    {
     "name": "stdout",
     "output_type": "stream",
     "text": [
      "(1, 'Zilker Park', ' 2100 Barton Springs Rd, Austin, TX ', 78704, 0)\n",
      "(2, 'UT Intramural Fields', ' 4901 Guadalupe St, Austin, TX ', 78751, 12)\n",
      "(3, 'Hancock Recreation Centre', ' 811 E 41st St, Austin, TX ', 78751, 0)\n",
      "(4, 'Eastwoods Neighborhood Park', ' 3001 Harris Park Ave, Austin, TX ', 78705, 5)\n",
      "(5, 'Pease District Park', ' 31100 Kingsbury St, Austin, TX  ', 78705, 7)\n",
      "(6, 'Westenfield Neighborhood Park', ' 2008 Enfield Rd, Austin, TX   ', 78703, 0)\n",
      "(7, 'Emma Long Metropolitan Park', ' 1600 City Park Rd, Austin, TX  ', 78730, 20)\n",
      "(8, 'Stoney Creek Park', 'Sebastian Bend, Pflugerville, TX', 78660, 0)\n",
      "(9, 'Little Walnut Creek Greenbelt', '5100 E 51st St, Austin, TX ', 78723, 12)\n",
      "(10, 'Caven Lacrosse and Sports Center at Clark Field', '1910 San Jacinto Boulevard, Austin, TX', 78712, 0)\n",
      "(11, 'Waterloo Neighborhood Park', '500 E 12th St, Austin, TX', 78701, 5)\n",
      "(12, 'Longview Neighborhood Park', '7609 Longview Rd, Austin, TX', 78745, 2)\n",
      "(13, 'Mary Moore Searight Metropolitan Park', '907 West Slaughter Lane, Austin, TX', 78748, 2)\n",
      "(14, 'Circle C Ranch Metropolitan Park on Slaughter Creek', '6301 W Slaughter Ln, Austin, TX', 78739, 10)\n",
      "(18, 'Duval Villas', '4305 Duval St, Austin, TX', 78751, 400)\n",
      "(19, 'Boggy Creek Greenbelt', '1114 Nile St, Austin, TX', 78702, 0)\n"
     ]
    }
   ],
   "source": [
    "cursor.execute('''select * from venue''')\n",
    "p1 = cursor.fetchall() #retrieve the first row\n",
    "for m in p1:\n",
    "    print(m)"
   ]
  },
  {
   "cell_type": "code",
   "execution_count": 32,
   "metadata": {
    "scrolled": true
   },
   "outputs": [
    {
     "data": {
      "text/plain": [
       "<sqlite3.Cursor at 0x1a68c411c00>"
      ]
     },
     "execution_count": 32,
     "metadata": {},
     "output_type": "execute_result"
    }
   ],
   "source": [
    "cursor.execute(('''    CREATE TABLE IF NOT EXISTS Users(email text PRIMARY KEY, name TEXT, sname TEXT, password integer,\n",
    "                       zipcode INTEGER, phone TEXT, etype1 text, etype2 text default null , etype3 text default null) '''))"
   ]
  },
  {
   "cell_type": "code",
   "execution_count": 25,
   "metadata": {
    "collapsed": true
   },
   "outputs": [],
   "source": [
    "db.commit()"
   ]
  },
  {
   "cell_type": "code",
   "execution_count": 11,
   "metadata": {
    "scrolled": true
   },
   "outputs": [
    {
     "data": {
      "text/plain": [
       "<sqlite3.Cursor at 0xd48a5838f0>"
      ]
     },
     "execution_count": 11,
     "metadata": {},
     "output_type": "execute_result"
    }
   ],
   "source": [
    "cursor.execute(''' CREATE TABLE if not exists Admin(name text, email text, FOREIGN KEY(email) REFERENCES users(email))''')"
   ]
  },
  {
   "cell_type": "code",
   "execution_count": 12,
   "metadata": {},
   "outputs": [
    {
     "data": {
      "text/plain": [
       "<sqlite3.Cursor at 0xd48a5838f0>"
      ]
     },
     "execution_count": 12,
     "metadata": {},
     "output_type": "execute_result"
    }
   ],
   "source": [
    "e = 'rutwickbhawsar@gmail.com'\n",
    "n = 'Rutwick'\n",
    "s = 'Bhawsar'\n",
    "p = 7612\n",
    "zipcode = 78705\n",
    "pho = 9174121235\n",
    "etpe= 'football'\n",
    "ett = 'basketball'\n",
    "ettt = 'tennis'\n",
    "\n",
    "\n",
    "\n",
    "cursor.execute('''Insert or replace into Users (email,name,sname,password,zipcode,phone,etype1,etype2,etype3) values (?,?,?,?,?,?,?,?,?)''',(e,n,s,p,zipcode,pho,etpe,ett,ettt))"
   ]
  },
  {
   "cell_type": "code",
   "execution_count": 237,
   "metadata": {
    "collapsed": true
   },
   "outputs": [],
   "source": [
    "with open('C:/Users/aryas_000/Downloads/Users.csv') as csvfile:\n",
    "    readCSV = csv.reader(csvfile, delimiter=',')\n",
    "    for row in readCSV:\n",
    "        pi = int(row[3])\n",
    "        zp = int(row[4]) \n",
    "        ph = int(row[5]) \n",
    "        cursor.execute(\"INSERT or REPLACE INTO Users (email,name,sname,password,zipcode,phone,etype1,etype2,etype3) VALUES (?,?,?,?,?,?,?,?,?)\", [row[0],row[1],row[2],pi,zp,ph,row[6],row[7],row[8]])"
   ]
  },
  {
   "cell_type": "code",
   "execution_count": 188,
   "metadata": {
    "collapsed": true
   },
   "outputs": [],
   "source": [
    "db.commit()\n"
   ]
  },
  {
   "cell_type": "code",
   "execution_count": 238,
   "metadata": {},
   "outputs": [
    {
     "name": "stdout",
     "output_type": "stream",
     "text": [
      "('shivangarya@gmail.com', 'Shivang', 'Arya', 1210, 78710, '-1534', 'football', 'tennis', 'badminton')\n",
      "('rutwickbhawsar@gmail.com', 'Rutwick', 'Bhawsar', 7612, 78705, '9174121235', 'football', 'basketball', 'tennis')\n",
      "('tmuller@bayern.net', 'Thomas', 'Muelles', 4124, 78710, '9013331123', 'football', 'Cricket', 'Basketball')\n",
      "('luisg@embraer.com.br', 'Lu¡s', 'Gon‡alves', 4564, 78794, '3932638841', 'Football', 'Badminton', 'Baseball')\n",
      "('leonekohler@surfeu.de', 'Leonie', 'K”hler', 4217, 78728, '2595995925', 'Hockey', 'Skateboarding', 'Running')\n",
      "('ftremblay@gmail.com', 'Fran‡ois', 'Tremblay', 4311, 78740, '8562383794', 'Rugby', 'Running', 'Baseball')\n",
      "('bjorn.hansen@yahoo.no', 'Bj?rn', 'Hansen', 5231, 78721, '6896848029', 'Kayaking', 'Basketball', 'Rugby')\n",
      "('frantisekw@jetbrains.com', 'Franti?ek', 'Wichterlov\\xa0', 9261, 78733, '4615969574', 'Hockey', 'Football', 'Football')\n",
      "('hholy@gmail.com', 'Helena', 'Hol?', 4311, 78755, '5125491222', 'Rugby', 'Cycling', 'Swimming')\n",
      "('astrid.gruber@apple.at', 'Astrid', 'Gruber', 9670, 78776, '7871257717', 'Baseball', 'Volleyball', 'Kayaking')\n",
      "('daan_peeters@apple.be', 'Daan', 'Peeters', 7194, 78764, '6753205279', 'Climbing', 'Tennis', 'Football')\n",
      "('kara.nielsen@jubii.dk', 'Kara', 'Nielsen', 2445, 78770, '8160395200', 'Volleyball', 'Cycling', 'Basketball')\n",
      "('eduardo@woodstock.com.br', 'Eduardo', 'Martins', 5995, 78792, '7755094765', 'Climbing', 'Basketball', 'Football')\n",
      "('alero@uol.com.br', 'Alexandre', 'Rocha', 8021, 78714, '1650616699', 'Climbing', 'Tennis', 'Skateboarding')\n",
      "('roberto.almeida@riotur.gov.br', 'Roberto', 'Almeida', 5015, 78709, '9090050881', 'Running', 'Basketball', 'Kayaking')\n",
      "('fernadaramos4@uol.com.br', 'Fernanda', 'Ramos', 8273, 78786, '2994608290', 'Volleyball', 'Hockey', 'Climbing')\n",
      "('mphilips12@shaw.ca', 'Mark', 'Philips', 7603, 78711, '1594797734', 'Rugby', 'Football', 'Kayaking')\n",
      "('jenniferp@rogers.ca', 'Jennifer', 'Peterson', 5156, 78798, '7979577695', 'Hockey', 'Kayaking', 'Running')\n",
      "('fharris@google.com', 'Frank', 'Harris', 4764, 78765, '8640059952', 'Running', 'Gym', 'Cycling')\n",
      "('jacksmith@microsoft.com', 'Jack', 'Smith', 7170, 78701, '3828010298', 'Basketball', 'Tennis', 'Gym')\n",
      "('michelleb@aol.com', 'Michelle', 'Brooks', 7450, 78790, '2018557287', 'Badminton', 'Volleyball', 'Kayaking')\n",
      "('tgoyer@apple.com', 'Tim', 'Goyer', 6739, 78705, '8240958758', 'Volleyball', 'Hockey', 'Cycling')\n",
      "('dmiller@comcast.com', 'Dan', 'Miller', 8872, 78779, '8245505363', 'Football', 'Rugby', 'Tennis')\n",
      "('kachase@hotmail.com', 'Kathy', 'Chase', 5158, 78776, '1118183300', 'Swimming', 'Baseball', 'Volleyball')\n",
      "('hleacock@gmail.com', 'Heather', 'Leacock', 1948, 78792, '4147811296', 'Baseball', 'Kayaking', 'Football')\n",
      "('johngordon22@yahoo.com', 'John', 'Gordon', 5345, 78721, '1135420565', 'Swimming', 'Hockey', 'Gym')\n",
      "('fralston@gmail.com', 'Frank', 'Ralston', 2800, 78723, '6213838935', 'Basketball', 'Volleyball', 'Skateboarding')\n",
      "('vstevens@yahoo.com', 'Victor', 'Stevens', 5422, 78759, '7780542508', 'Running', 'Hockey', 'Baseball')\n",
      "('ricunningham@hotmail.com', 'Richard', 'Cunningham', 1898, 78799, '2662287069', 'Football', 'Kayaking', 'Gym')\n",
      "('patrick.gray@aol.com', 'Patrick', 'Gray', 3354, 78732, '1563951033', 'Hockey', 'Gym', 'Volleyball')\n",
      "('jubarnett@gmail.com', 'Julia', 'Barnett', 1209, 78716, '5448547797', 'Badminton', 'Swimming', 'Running')\n",
      "('robbrown@shaw.ca', 'Robert', 'Brown', 2044, 78741, '8463648558', 'Baseball', 'Volleyball', 'Badminton')\n",
      "('edfrancis@yachoo.ca', 'Edward', 'Francis', 2913, 78759, '8340478419', 'Tennis', 'Rugby', 'Hockey')\n",
      "('marthasilk@gmail.com', 'Martha', 'Silk', 7383, 78731, '8107710781', 'Hockey', 'Tennis', 'Badminton')\n",
      "('aaronmitchell@yahoo.ca', 'Aaron', 'Mitchell', 5493, 78785, '7551434416', 'Badminton', 'Football', 'Gym')\n",
      "('ellie.sullivan@shaw.ca', 'Ellie', 'Sullivan', 5017, 78716, '9060922108', 'Volleyball', 'Climbing', 'Football')\n",
      "('jfernandes@yahoo.pt', 'Jo?o', 'Fernandes', 8562, 78729, '2960963270', 'Tennis', 'Gym', 'Skateboarding')\n",
      "('masampaio@sapo.pt', 'Madalena', 'Sampaio', 5683, 78707, '4630765478', 'Baseball', 'Running', 'Climbing')\n",
      "('hannah.schneider@yahoo.de', 'Hannah', 'Schneider', 8916, 78757, '4755658475', 'Kayaking', 'Hockey', 'Badminton')\n",
      "('fzimmermann@yahoo.de', 'Fynn', 'Zimmermann', 6421, 78706, '1719282247', 'Basketball', 'Rugby', 'Gym')\n",
      "('nschroder@surfeu.de', 'Niklas', 'Schr”der', 3027, 78799, '7384186553', 'Basketball', 'Basketball', 'Football')\n",
      "('camille.bernard@yahoo.fr', 'Camille', 'Bernard', 8535, 78712, '9872450551', 'Swimming', 'Gym', 'Badminton')\n",
      "('dominiquelefebvre@gmail.com', 'Dominique', 'Lefebvre', 1278, 78754, '3062244031', 'Volleyball', 'Badminton', 'Gym')\n",
      "('marc.dubois@hotmail.com', 'Marc', 'Dubois', 4772, 78782, '4908693572', 'Rugby', 'Badminton', 'Volleyball')\n",
      "('wyatt.girard@yahoo.fr', 'Wyatt', 'Girard', 1325, 78755, '6520760365', 'Volleyball', 'Running', 'Rugby')\n",
      "('isabelle_mercier@apple.fr', 'Isabelle', 'Mercier', 3458, 78719, '8878378517', 'Kayaking', 'Football', 'Running')\n",
      "('terhi.hamalainen@apple.fi', 'Terhi', 'H„m„l„inen', 4155, 78776, '3412792186', 'Badminton', 'Baseball', 'Basketball')\n",
      "('ladislav_kovacs@apple.hu', 'Ladislav', 'Kov\\xa0cs', 1690, 78764, '6628859745', 'Skateboarding', 'Running', 'Hockey')\n",
      "('hughoreilly@apple.ie', 'Hugh', \"O'Reilly\", 8808, 78793, '4061951562', 'Skateboarding', 'Basketball', 'Volleyball')\n",
      "('lucas.mancini@yahoo.it', 'Lucas', 'Mancini', 4379, 78700, '2587152247', 'Basketball', 'Basketball', 'Baseball')\n",
      "('johavanderberg@yahoo.nl', 'Johannes', 'Van der Berg', 5141, 78759, '2536930185', 'Rugby', 'Gym', 'Baseball')\n",
      "('stanis?aw.w¢jcik@wp.pl', 'Stanis?aw', 'W¢jcik', 2475, 78790, '8014770483', 'Basketball', 'Climbing', 'Baseball')\n",
      "('enrique_munoz@yahoo.es', 'Enrique', 'Mu¤oz', 1176, 78732, '6021833914', 'Running', 'Badminton', 'Cycling')\n",
      "('joakim.johansson@yahoo.se', 'Joakim', 'Johansson', 7817, 78719, '6701138458', 'Badminton', 'Running', 'Football')\n",
      "('emma_jones@hotmail.com', 'Emma', 'Jones', 3459, 78759, '4212911072', 'Baseball', 'Running', 'Rugby')\n",
      "('phil.hughes@gmail.com', 'Phil', 'Hughes', 7819, 78782, '6973307290', 'Badminton', 'Kayaking', 'Hockey')\n",
      "('steve.murray@yahoo.uk', 'Steve', 'Murray', 8282, 78770, '3172088577', 'Kayaking', 'Badminton', 'Rugby')\n",
      "('mark.taylor@yahoo.au', 'Mark', 'Taylor', 6391, 78745, '8234622007', 'Gym', 'Swimming', 'Basketball')\n",
      "('diego.gutierrez@yahoo.ar', 'Diego', 'Guti‚rrez', 5724, 78721, '2343371575', 'Swimming', 'Climbing', 'Cycling')\n",
      "('luisrojas@yahoo.cl', 'Luis', 'Rojas', 4673, 78777, '3689273108', 'Kayaking', 'Rugby', 'Hockey')\n",
      "('manoj.pareek@rediff.com', 'Manoj', 'Pareek', 5806, 78797, '8836746727', 'Kayaking', 'Skateboarding', 'Basketball')\n",
      "('puja_srivastava@yahoo.in', 'Puja', 'Srivastava', 1668, 78776, '5736045704', 'Climbing', 'Basketball', 'Football')\n"
     ]
    }
   ],
   "source": [
    "cursor.execute('''select * from users''')\n",
    "p1 = cursor.fetchall() #retrieve the first row\n",
    "for m in p1:\n",
    "    print(m)"
   ]
  },
  {
   "cell_type": "code",
   "execution_count": 16,
   "metadata": {},
   "outputs": [
    {
     "data": {
      "text/plain": [
       "<sqlite3.Cursor at 0xd48a5838f0>"
      ]
     },
     "execution_count": 16,
     "metadata": {},
     "output_type": "execute_result"
    }
   ],
   "source": [
    "na = 'Rutwick Bhawsar'\n",
    "em = 'rutwickbhawsar@gmail.com'\n",
    "cursor.execute('''Insert or replace into Admin (name,email) values (?,?)''',(na,em))"
   ]
  },
  {
   "cell_type": "code",
   "execution_count": 18,
   "metadata": {
    "collapsed": true
   },
   "outputs": [],
   "source": [
    "db.commit()"
   ]
  },
  {
   "cell_type": "code",
   "execution_count": 5,
   "metadata": {
    "collapsed": true
   },
   "outputs": [],
   "source": [
    "# 1\n",
    "# Function to add a new user\n",
    "# Simply insert into Users table\n",
    "\n",
    "def new_user(email,name,sname,password,zipcode,phone,etype1,etype2=\"\",etype3=\"\"):\n",
    "    cursor = db.cursor()\n",
    "    cursor.execute('''Insert or replace into Users (email,name,sname,password,zipcode,phone,etype1,etype2,etype3) values (?,?,?,?,?,?,?,?,?)''',(email,name,sname,password,zipcode,phone,etype1,etype2,etype3))\n",
    "    db.commit()\n",
    "    \n"
   ]
  },
  {
   "cell_type": "code",
   "execution_count": 22,
   "metadata": {
    "collapsed": true
   },
   "outputs": [],
   "source": [
    "new_user(\"tmuller@bayern.net\",\"Thomas\",\"Muelles\",4124,78710,9013331123,\"football\",\"Cricket\",\"Basketball\")    "
   ]
  },
  {
   "cell_type": "code",
   "execution_count": 23,
   "metadata": {},
   "outputs": [
    {
     "data": {
      "text/plain": [
       "<sqlite3.Cursor at 0xd48a5838f0>"
      ]
     },
     "execution_count": 23,
     "metadata": {},
     "output_type": "execute_result"
    }
   ],
   "source": [
    "cursor.execute(('''    CREATE TABLE if not exists VenueSlots(slot Integer, datetime datetime, venueid INTEGER, availability INTEGER, eventid INTEGER default null, primary key (datetime,venueid),foreign key(eventid) references events(eventid),foreign key(venueid) references venue(venueid))'''))"
   ]
  },
  {
   "cell_type": "code",
   "execution_count": 147,
   "metadata": {
    "collapsed": true
   },
   "outputs": [],
   "source": [
    "from datetime import datetime\n",
    "\n",
    "with open('E:/Usr/UT_APAD/projecttable.csv') as csvfile:\n",
    "    readCSV = csv.reader(csvfile, delimiter=',')\n",
    "    for row in readCSV:\n",
    "        rp = int(row[0])\n",
    "        zp = int(row[2])\n",
    "        ph = int(row[3])\n",
    "        cursor.execute(\"INSERT or REPLACE INTO venueslots (slot,datetime,venueid,availability) VALUES (?,?,?,?)\", [rp,row[1],zp,ph])"
   ]
  },
  {
   "cell_type": "code",
   "execution_count": 73,
   "metadata": {},
   "outputs": [
    {
     "name": "stdout",
     "output_type": "stream",
     "text": [
      "(1, '2019-08-01 08:00:00', 1, 1, None)\n",
      "(2, '2019-08-01 09:00:00', 1, 1, None)\n",
      "(3, '2019-08-01 10:00:00', 1, 1, None)\n",
      "(4, '2019-08-01 11:00:00', 1, 1, None)\n",
      "(5, '2019-08-01 12:00:00', 1, 1, None)\n",
      "(6, '2019-08-01 13:00:00', 1, 1, None)\n",
      "(1, '2019-08-02 08:00:00', 1, 1, None)\n",
      "(2, '2019-08-02 09:00:00', 1, 1, None)\n",
      "(3, '2019-08-02 10:00:00', 1, 1, None)\n",
      "(4, '2019-08-02 11:00:00', 1, 1, None)\n",
      "(5, '2019-08-02 12:00:00', 1, 1, None)\n",
      "(6, '2019-08-02 13:00:00', 1, 1, None)\n",
      "(1, '2019-08-01 08:00:00', 2, 1, None)\n",
      "(2, '2019-08-01 09:00:00', 2, 1, None)\n",
      "(3, '2019-08-01 10:00:00', 2, 1, None)\n",
      "(4, '2019-08-01 11:00:00', 2, 1, None)\n",
      "(5, '2019-08-01 12:00:00', 2, 1, None)\n",
      "(6, '2019-08-01 13:00:00', 2, 1, None)\n",
      "(1, '2019-08-02 08:00:00', 2, 1, None)\n",
      "(2, '2019-08-02 09:00:00', 2, 1, None)\n",
      "(3, '2019-08-02 10:00:00', 2, 1, None)\n",
      "(4, '2019-08-02 11:00:00', 2, 1, None)\n",
      "(5, '2019-08-02 12:00:00', 2, 1, None)\n",
      "(6, '2019-08-02 13:00:00', 2, 1, None)\n",
      "(1, '2019-08-01 08:00:00', 3, 1, None)\n",
      "(2, '2019-08-01 09:00:00', 3, 1, None)\n",
      "(3, '2019-08-01 10:00:00', 3, 1, None)\n",
      "(4, '2019-08-01 11:00:00', 3, 0, 6)\n",
      "(5, '2019-08-01 12:00:00', 3, 0, 6)\n",
      "(6, '2019-08-01 13:00:00', 3, 0, 6)\n",
      "(1, '2019-08-02 08:00:00', 3, 1, None)\n",
      "(2, '2019-08-02 09:00:00', 3, 1, None)\n",
      "(3, '2019-08-02 10:00:00', 3, 1, None)\n",
      "(4, '2019-08-02 11:00:00', 3, 1, None)\n",
      "(5, '2019-08-02 12:00:00', 3, 1, None)\n",
      "(6, '2019-08-02 13:00:00', 3, 1, None)\n",
      "(1, '2019-08-01 08:00:00', 4, 1, None)\n",
      "(2, '2019-08-01 09:00:00', 4, 1, None)\n",
      "(3, '2019-08-01 10:00:00', 4, 0, 6)\n",
      "(4, '2019-08-01 11:00:00', 4, 0, 6)\n",
      "(5, '2019-08-01 12:00:00', 4, 0, 6)\n",
      "(6, '2019-08-01 13:00:00', 4, 1, None)\n",
      "(1, '2019-08-02 08:00:00', 4, 0, 5)\n",
      "(2, '2019-08-02 09:00:00', 4, 0, 5)\n",
      "(3, '2019-08-02 10:00:00', 4, 1, None)\n",
      "(4, '2019-08-02 11:00:00', 4, 1, None)\n",
      "(5, '2019-08-02 12:00:00', 4, 1, None)\n",
      "(6, '2019-08-02 13:00:00', 4, 1, None)\n",
      "(1, '2019-08-01 08:00:00', 5, 1, None)\n",
      "(2, '2019-08-01 09:00:00', 5, 1, None)\n",
      "(3, '2019-08-01 10:00:00', 5, 1, None)\n",
      "(4, '2019-08-01 11:00:00', 5, 0, 7)\n",
      "(5, '2019-08-01 12:00:00', 5, 0, 7)\n",
      "(6, '2019-08-01 13:00:00', 5, 1, None)\n",
      "(1, '2019-08-02 08:00:00', 5, 1, None)\n",
      "(2, '2019-08-02 09:00:00', 5, 1, None)\n",
      "(3, '2019-08-02 10:00:00', 5, 1, None)\n",
      "(4, '2019-08-02 11:00:00', 5, 0, 8)\n",
      "(5, '2019-08-02 12:00:00', 5, 0, 8)\n",
      "(6, '2019-08-02 13:00:00', 5, 1, None)\n",
      "(1, '2019-08-01 08:00:00', 6, 1, None)\n",
      "(2, '2019-08-01 09:00:00', 6, 1, None)\n",
      "(3, '2019-08-01 10:00:00', 6, 1, None)\n",
      "(4, '2019-08-01 11:00:00', 6, 1, None)\n",
      "(5, '2019-08-01 12:00:00', 6, 1, None)\n",
      "(6, '2019-08-01 13:00:00', 6, 1, None)\n",
      "(1, '2019-08-02 08:00:00', 6, 1, None)\n",
      "(2, '2019-08-02 09:00:00', 6, 1, None)\n",
      "(3, '2019-08-02 10:00:00', 6, 1, None)\n",
      "(4, '2019-08-02 11:00:00', 6, 1, None)\n",
      "(5, '2019-08-02 12:00:00', 6, 1, None)\n",
      "(6, '2019-08-02 13:00:00', 6, 1, None)\n",
      "(1, '2019-08-01 08:00:00', 7, 1, None)\n",
      "(2, '2019-08-01 09:00:00', 7, 1, None)\n",
      "(3, '2019-08-01 10:00:00', 7, 1, None)\n",
      "(4, '2019-08-01 11:00:00', 7, 1, None)\n",
      "(5, '2019-08-01 12:00:00', 7, 1, None)\n",
      "(6, '2019-08-01 13:00:00', 7, 1, None)\n",
      "(1, '2019-08-02 08:00:00', 7, 1, None)\n",
      "(2, '2019-08-02 09:00:00', 7, 1, None)\n",
      "(3, '2019-08-02 10:00:00', 7, 1, None)\n",
      "(4, '2019-08-02 11:00:00', 7, 1, None)\n",
      "(5, '2019-08-02 12:00:00', 7, 1, None)\n",
      "(6, '2019-08-02 13:00:00', 7, 1, None)\n",
      "(1, '2019-08-01 08:00:00', 8, 1, None)\n",
      "(2, '2019-08-01 09:00:00', 8, 1, None)\n",
      "(3, '2019-08-01 10:00:00', 8, 1, None)\n",
      "(4, '2019-08-01 11:00:00', 8, 1, None)\n",
      "(5, '2019-08-01 12:00:00', 8, 1, None)\n",
      "(6, '2019-08-01 13:00:00', 8, 1, None)\n",
      "(1, '2019-08-02 08:00:00', 8, 1, None)\n",
      "(2, '2019-08-02 09:00:00', 8, 1, None)\n",
      "(3, '2019-08-02 10:00:00', 8, 1, None)\n",
      "(4, '2019-08-02 11:00:00', 8, 1, None)\n",
      "(5, '2019-08-02 12:00:00', 8, 1, None)\n",
      "(6, '2019-08-02 13:00:00', 8, 1, None)\n",
      "(1, '2019-08-01 08:00:00', 9, 1, None)\n",
      "(2, '2019-08-01 09:00:00', 9, 1, None)\n",
      "(3, '2019-08-01 10:00:00', 9, 1, None)\n",
      "(4, '2019-08-01 11:00:00', 9, 1, None)\n",
      "(5, '2019-08-01 12:00:00', 9, 1, None)\n",
      "(6, '2019-08-01 13:00:00', 9, 1, None)\n",
      "(1, '2019-08-02 08:00:00', 9, 1, None)\n",
      "(2, '2019-08-02 09:00:00', 9, 1, None)\n",
      "(3, '2019-08-02 10:00:00', 9, 1, None)\n",
      "(4, '2019-08-02 11:00:00', 9, 1, None)\n",
      "(5, '2019-08-02 12:00:00', 9, 1, None)\n",
      "(6, '2019-08-02 13:00:00', 9, 1, None)\n",
      "(1, '2019-08-01 08:00:00', 10, 1, None)\n",
      "(2, '2019-08-01 09:00:00', 10, 1, None)\n",
      "(3, '2019-08-01 10:00:00', 10, 1, None)\n",
      "(4, '2019-08-01 11:00:00', 10, 1, None)\n",
      "(5, '2019-08-01 12:00:00', 10, 1, None)\n",
      "(6, '2019-08-01 13:00:00', 10, 1, None)\n",
      "(1, '2019-08-02 08:00:00', 10, 1, None)\n",
      "(2, '2019-08-02 09:00:00', 10, 1, None)\n",
      "(3, '2019-08-02 10:00:00', 10, 1, None)\n",
      "(4, '2019-08-02 11:00:00', 10, 1, None)\n",
      "(5, '2019-08-02 12:00:00', 10, 1, None)\n",
      "(6, '2019-08-02 13:00:00', 10, 1, None)\n",
      "(1, '2019-08-01 08:00:00', 11, 1, None)\n",
      "(2, '2019-08-01 09:00:00', 11, 1, None)\n",
      "(3, '2019-08-01 10:00:00', 11, 1, None)\n",
      "(4, '2019-08-01 11:00:00', 11, 1, None)\n",
      "(5, '2019-08-01 12:00:00', 11, 1, None)\n",
      "(6, '2019-08-01 13:00:00', 11, 1, None)\n",
      "(1, '2019-08-02 08:00:00', 11, 1, None)\n",
      "(2, '2019-08-02 09:00:00', 11, 1, None)\n",
      "(3, '2019-08-02 10:00:00', 11, 1, None)\n",
      "(4, '2019-08-02 11:00:00', 11, 1, None)\n",
      "(5, '2019-08-02 12:00:00', 11, 1, None)\n",
      "(6, '2019-08-02 13:00:00', 11, 1, None)\n",
      "(1, '2019-08-01 08:00:00', 12, 1, None)\n",
      "(2, '2019-08-01 09:00:00', 12, 1, None)\n",
      "(3, '2019-08-01 10:00:00', 12, 1, None)\n",
      "(4, '2019-08-01 11:00:00', 12, 1, None)\n",
      "(5, '2019-08-01 12:00:00', 12, 1, None)\n",
      "(6, '2019-08-01 13:00:00', 12, 1, None)\n",
      "(1, '2019-08-02 08:00:00', 12, 1, None)\n",
      "(2, '2019-08-02 09:00:00', 12, 1, None)\n",
      "(3, '2019-08-02 10:00:00', 12, 1, None)\n",
      "(4, '2019-08-02 11:00:00', 12, 1, None)\n",
      "(5, '2019-08-02 12:00:00', 12, 1, None)\n",
      "(6, '2019-08-02 13:00:00', 12, 1, None)\n",
      "(1, '2019-08-01 08:00:00', 13, 1, None)\n",
      "(2, '2019-08-01 09:00:00', 13, 1, None)\n",
      "(3, '2019-08-01 10:00:00', 13, 1, None)\n",
      "(4, '2019-08-01 11:00:00', 13, 0, 4)\n",
      "(5, '2019-08-01 12:00:00', 13, 0, 4)\n",
      "(6, '2019-08-01 13:00:00', 13, 0, 4)\n",
      "(1, '2019-08-02 08:00:00', 13, 1, None)\n",
      "(2, '2019-08-02 09:00:00', 13, 1, None)\n",
      "(3, '2019-08-02 10:00:00', 13, 1, None)\n",
      "(4, '2019-08-02 11:00:00', 13, 1, None)\n",
      "(5, '2019-08-02 12:00:00', 13, 1, None)\n",
      "(6, '2019-08-02 13:00:00', 13, 1, None)\n",
      "(1, '2019-08-01 08:00:00', 14, 1, None)\n",
      "(2, '2019-08-01 09:00:00', 14, 1, None)\n",
      "(3, '2019-08-01 10:00:00', 14, 1, None)\n",
      "(4, '2019-08-01 11:00:00', 14, 1, None)\n",
      "(5, '2019-08-01 12:00:00', 14, 1, None)\n",
      "(6, '2019-08-01 13:00:00', 14, 1, None)\n",
      "(1, '2019-08-02 08:00:00', 14, 1, None)\n",
      "(2, '2019-08-02 09:00:00', 14, 1, None)\n",
      "(3, '2019-08-02 10:00:00', 14, 1, None)\n",
      "(4, '2019-08-02 11:00:00', 14, 1, None)\n",
      "(5, '2019-08-02 12:00:00', 14, 1, None)\n",
      "(6, '2019-08-02 13:00:00', 14, 1, None)\n"
     ]
    }
   ],
   "source": [
    "pp = cursor.execute('''select * from venueslots''')\n",
    "for m in pp:\n",
    "    print(m)"
   ]
  },
  {
   "cell_type": "code",
   "execution_count": 25,
   "metadata": {},
   "outputs": [
    {
     "data": {
      "text/plain": [
       "<sqlite3.Cursor at 0xd48a5838f0>"
      ]
     },
     "execution_count": 25,
     "metadata": {},
     "output_type": "execute_result"
    }
   ],
   "source": [
    "\n",
    "cursor.execute(''' CREATE TABLE if not exists Events(EventID integer PRIMARY KEY, EventCreator text, Venue text, Capacity integer, RemainingSpots integer, Fee_USD integer, Begintime datetime, endtime datetime, Type text, foreign key(eventcreator) references users(email)  )''')"
   ]
  },
  {
   "cell_type": "code",
   "execution_count": 26,
   "metadata": {
    "collapsed": true
   },
   "outputs": [],
   "source": [
    "db.commit()"
   ]
  },
  {
   "cell_type": "code",
   "execution_count": 29,
   "metadata": {
    "collapsed": true
   },
   "outputs": [],
   "source": [
    "# 2\n",
    "# User creates a new event (User Email is listed as a Foreign Key under the name EventCreator)\n",
    "# EventID is selected from the events table\n",
    "# VenueID is selected from the venue table\n",
    "# Venue Slot table is updated\n",
    "\n",
    "def new_event(email,venue,capacity,remaining,fee,begin,end,typ):\n",
    "    dt2 = '2019-08-01 13:00:00'\n",
    "    cursor = db.cursor()\n",
    "    venuei = cursor.execute('''SELECT venueid FROM venue where venuename = ? ''',[venue])\n",
    "    venueid = venuei.fetchone()[0]\n",
    "    avail=cursor.execute(''' select availability from venueslots where datetime >= ? and datetime<? AND venueid=?''', (begin,end,venueid))\n",
    "    flag=0\n",
    "    for m in avail.fetchall():\n",
    "        if (m==(0,)): \n",
    "            flag=1\n",
    "    if(flag==0):\n",
    "        cursor.execute('''Insert into events (EventCreator,venue,capacity,remainingspots, fee_usd,begintime,endtime,type) values (?,?,?,?,?,?,?,?)''',(email,venue,capacity,remaining,fee,begin,end,typ))\n",
    "        eventi = cursor.execute('''SELECT eventid FROM events ORDER BY eventid DESC LIMIT 1 ''')\n",
    "        eventid = eventi.fetchone()[0]\n",
    "        cursor.execute('''update venueslots set availability = 0, eventid = ? where venueid = ? and datetime between ? and ?''',(eventid,venueid,begin,end))\n",
    "    else:\n",
    "        print(\"Not Available\")\n",
    "    db.commit()\n",
    "    \n",
    "    "
   ]
  },
  {
   "cell_type": "code",
   "execution_count": 239,
   "metadata": {
    "collapsed": true
   },
   "outputs": [],
   "source": [
    "new_event('tgoyer@apple.com','Mary Moore Searight Metropolitan Park',10,9,5,'2019-08-02 12:00:00','2019-08-02 13:00:00','football')"
   ]
  },
  {
   "cell_type": "code",
   "execution_count": 29,
   "metadata": {},
   "outputs": [
    {
     "data": {
      "text/plain": [
       "<sqlite3.Cursor at 0xd48a5838f0>"
      ]
     },
     "execution_count": 29,
     "metadata": {},
     "output_type": "execute_result"
    }
   ],
   "source": [
    "cursor.execute(''' CREATE TABLE if not exists Registered(eventid text,userid text, primary key(eventid,userid) foreign key(eventid)references events(eventid),foreign key(userid) references users(email))''')"
   ]
  },
  {
   "cell_type": "code",
   "execution_count": 30,
   "metadata": {},
   "outputs": [
    {
     "name": "stdout",
     "output_type": "stream",
     "text": [
      "(1, 'rutwickbhawsar@gmail.com', 'Hancock Recreation Centre', 10, 7, 5, '2019-08-01 11:00:00', '2019-08-01 13:00:00', 'football')\n",
      "(3, 'shivangarya@gmail.com', 'Little Walnut Creek Greenbelt', 2, 2, 12, '2019-08-02 09:00:00', '2019-08-01 13:00:00', 'basketball')\n",
      "(4, 'terhi.hamalainen@apple.fi', 'Mary Moore Searight Metropolitan Park', 15, 2, 0, '2019-08-01 11:00:00', '2019-08-01 13:00:00', 'badminton')\n",
      "(5, 'terhi.hamalainen@apple.fi', 'Eastwoods Neighborhood Park', 2, 0, 10, '2019-08-02 08:00:00', '2019-08-02 09:00:00', 'badminton')\n",
      "(7, 'fzimmermann@yahoo.de', 'Pease District Park', 4, 3, 12, '2019-08-01 11:00:00', '2019-08-01 12:00:00', 'football')\n",
      "(8, 'tmuller@bayern.net', 'Westenfield Neighborhood Park', 10, 9, 0, '2019-08-01 08:00:00', '2019-08-01 11:00:00', 'swimming')\n"
     ]
    }
   ],
   "source": [
    "p=cursor.execute('''select * from events''')\n",
    "for pp in p:\n",
    "    print(pp)\n",
    "    "
   ]
  },
  {
   "cell_type": "code",
   "execution_count": 7,
   "metadata": {
    "collapsed": true
   },
   "outputs": [],
   "source": [
    "# 3\n",
    "#Function to register a user for an event\n",
    "#Check whether there are enough spots\n",
    "#Insert Event and User into Registered\n",
    "#Update remaining spots available in the Events table\n",
    "\n",
    "def user_registration(event,user):\n",
    "    cursor = db.cursor()\n",
    "    count = cursor.execute('''select remainingspots from events where eventid = ?''',(event,))\n",
    "    countone = count.fetchone()[0]\n",
    "    cc = int(countone)\n",
    "    if(cc>0):\n",
    "        cursor.execute('''insert into registered (eventid,userid) values (?,?)''',(event,user))\n",
    "        cursor.execute('''update events set remainingspots = remainingspots -1 where eventid = ?''',(event,))\n",
    "    else:\n",
    "        print('''Sorry Event is full!''')\n",
    "    db.commit()\n",
    "    "
   ]
  },
  {
   "cell_type": "code",
   "execution_count": 45,
   "metadata": {
    "collapsed": true
   },
   "outputs": [],
   "source": [
    "user_registration('8','bjorn.hansen@yahoo.no')\n"
   ]
  },
  {
   "cell_type": "code",
   "execution_count": 8,
   "metadata": {
    "collapsed": true
   },
   "outputs": [],
   "source": [
    "# 4\n",
    "# Function to remove an event only if you're an admin\n",
    "\n",
    "def remove_event(eventid,email):\n",
    "    pp = cursor.execute('''select count(*) from Admin where email = ? ''',[email])\n",
    "    p1=cursor.fetchone()\n",
    "    if p1 != (0,):\n",
    "        cursor.execute(''' delete from Events where EventID = ? ''',eventid)\n",
    "        print(\"\\nYou have deleted the event!\")\n",
    "    else:\n",
    "        return(\"You're not an admin!\")\n",
    "    db.commit()"
   ]
  },
  {
   "cell_type": "code",
   "execution_count": 52,
   "metadata": {
    "collapsed": true
   },
   "outputs": [],
   "source": [
    "remove_event('6','rutwickbhawsar@gmail.com')"
   ]
  },
  {
   "cell_type": "code",
   "execution_count": 9,
   "metadata": {
    "collapsed": true
   },
   "outputs": [],
   "source": [
    "# 5\n",
    "#Function to show available timeslots for a particular venue\n",
    "\n",
    "def display_timeslot_available(venue):\n",
    "    venuei = cursor.execute('''SELECT venueid FROM venue where venuename = ? ''',[venue])\n",
    "    venueid = venuei.fetchone()[0]\n",
    "    p1 = cursor.execute('''select datetime from venueslots where venueid= ? AND availability=1 ''',(venueid,))\n",
    "    for m in p1:\n",
    "        print(m)\n",
    "    db.commit()"
   ]
  },
  {
   "cell_type": "code",
   "execution_count": 9,
   "metadata": {},
   "outputs": [
    {
     "name": "stdout",
     "output_type": "stream",
     "text": [
      "('2019-08-01 08:00:00',)\n",
      "('2019-08-01 09:00:00',)\n",
      "('2019-08-01 10:00:00',)\n",
      "('2019-08-01 11:00:00',)\n",
      "('2019-08-01 12:00:00',)\n",
      "('2019-08-01 13:00:00',)\n",
      "('2019-08-02 08:00:00',)\n",
      "('2019-08-02 09:00:00',)\n",
      "('2019-08-02 10:00:00',)\n",
      "('2019-08-02 11:00:00',)\n",
      "('2019-08-02 12:00:00',)\n",
      "('2019-08-02 13:00:00',)\n"
     ]
    }
   ],
   "source": [
    "display_timeslot_available('Zilker Park')"
   ]
  },
  {
   "cell_type": "code",
   "execution_count": 10,
   "metadata": {
    "collapsed": true
   },
   "outputs": [],
   "source": [
    "# 6\n",
    "# Function to show available venues for a particular timeslot\n",
    "\n",
    "def display_available_venues(dt):\n",
    "    venuei = cursor.execute('''SELECT venueid FROM venueslots where datetime = ? and availability=1 ''',[dt])\n",
    "    for m in venuei.fetchall():\n",
    "        for x in m:\n",
    "            p1 = cursor.execute('''select venuename from venue where venueid= ? ''',(x,))\n",
    "            for y in p1:\n",
    "                print(y)\n",
    "    db.commit()"
   ]
  },
  {
   "cell_type": "code",
   "execution_count": 10,
   "metadata": {},
   "outputs": [
    {
     "name": "stdout",
     "output_type": "stream",
     "text": [
      "('Zilker Park',)\n",
      "('UT Intramural Fields',)\n",
      "('Hancock Recreation Centre',)\n",
      "('Eastwoods Neighborhood Park',)\n",
      "('Pease District Park',)\n",
      "('Westenfield Neighborhood Park',)\n",
      "('Emma Long Metropolitan Park',)\n",
      "('Stoney Creek Park',)\n",
      "('Little Walnut Creek Greenbelt',)\n",
      "('Caven Lacrosse and Sports Center at Clark Field',)\n",
      "('Waterloo Neighborhood Park',)\n",
      "('Longview Neighborhood Park',)\n",
      "('Mary Moore Searight Metropolitan Park',)\n",
      "('Circle C Ranch Metropolitan Park on Slaughter Creek',)\n"
     ]
    }
   ],
   "source": [
    "display_available_venues('2019-08-01 09:00:00')"
   ]
  },
  {
   "cell_type": "code",
   "execution_count": 11,
   "metadata": {
    "collapsed": true
   },
   "outputs": [],
   "source": [
    "# 7\n",
    "# Function to show all events at a particular Venue at a particular datetime\n",
    "\n",
    "def events_at_venue(venue, datetime):\n",
    "    p1=cursor.execute(''' select * from events where Venue=? and Begintime=? ''',(format(venue),datetime))\n",
    "    for m in p1:\n",
    "        print(m)\n",
    "    db.commit()"
   ]
  },
  {
   "cell_type": "code",
   "execution_count": 12,
   "metadata": {},
   "outputs": [
    {
     "name": "stdout",
     "output_type": "stream",
     "text": [
      "(1, 'rutwickbhawsar@gmail.com', 'Hancock Recreation Centre', 10, 7, 5, '2019-08-01 11:00:00', '2019-08-01 13:00:00', 'football')\n",
      "(2, 'rutwickbhawsar@gmail.com', 'Hancock Recreation Centre', 10, 10, 5, '2019-08-01 11:00:00', '2019-08-01 13:00:00', 'football')\n"
     ]
    }
   ],
   "source": [
    "events_at_venue('Hancock Recreation Centre','2019-08-01 11:00:00')"
   ]
  },
  {
   "cell_type": "code",
   "execution_count": 12,
   "metadata": {
    "collapsed": true
   },
   "outputs": [],
   "source": [
    "# 8\n",
    "# Function to add venue only if you're an admin\n",
    "\n",
    "def venue_creation(email,venuename,location,zipcode,fees):\n",
    "    pp = cursor.execute('''select count(*) from Admin where email = ? ''',[email])\n",
    "    p1=cursor.fetchone()\n",
    "    if p1 != (0,):\n",
    "        cursor.execute(''' Insert into Venue (venuename,location,zipcode,fees) values (?,?,?,?)''',(venuename,location,zipcode,fees))\n",
    "        print(\"\\nVenue Created Sucessfully\")\n",
    "    else:\n",
    "        return(\"You're not an admin!\")\n",
    "    db.commit()\n",
    "    "
   ]
  },
  {
   "cell_type": "code",
   "execution_count": 14,
   "metadata": {},
   "outputs": [
    {
     "data": {
      "text/plain": [
       "\"You're not an admin!\""
      ]
     },
     "execution_count": 14,
     "metadata": {},
     "output_type": "execute_result"
    }
   ],
   "source": [
    "venue_creation('asjksd@gmail.com','Boggy Creek Greenbelt','1114 Nile St, Austin, TX',78702,0)"
   ]
  },
  {
   "cell_type": "code",
   "execution_count": 15,
   "metadata": {},
   "outputs": [
    {
     "name": "stdout",
     "output_type": "stream",
     "text": [
      "\n",
      "Venue Created Sucessfully\n"
     ]
    }
   ],
   "source": [
    "venue_creation('rutwickbhawsar@gmail.com','Boggy Creek Greenbelt','1114 Nile St, Austin, TX',78702,0)"
   ]
  },
  {
   "cell_type": "code",
   "execution_count": 13,
   "metadata": {
    "collapsed": true
   },
   "outputs": [],
   "source": [
    "# 9\n",
    "# Function to show all events of a particular type\n",
    "\n",
    "def events_type(etype):\n",
    "    res = cursor.execute('''Select * from events where type = ? ''',[etype])\n",
    "    for i in res:\n",
    "        print(i)"
   ]
  },
  {
   "cell_type": "code",
   "execution_count": 17,
   "metadata": {},
   "outputs": [
    {
     "name": "stdout",
     "output_type": "stream",
     "text": [
      "(4, 'terhi.hamalainen@apple.fi', 'Mary Moore Searight Metropolitan Park', 15, 1, 0, '2019-08-01 11:00:00', '2019-08-01 13:00:00', 'badminton')\n",
      "(5, 'terhi.hamalainen@apple.fi', 'Eastwoods Neighborhood Park', 2, 0, 10, '2019-08-02 08:00:00', '2019-08-02 09:00:00', 'badminton')\n"
     ]
    }
   ],
   "source": [
    "events_type('badminton')"
   ]
  },
  {
   "cell_type": "code",
   "execution_count": 14,
   "metadata": {
    "collapsed": true
   },
   "outputs": [],
   "source": [
    "# 10\n",
    "# Functions to show events near a particular zipcode\n",
    "\n",
    "def events_zipcode(zipcode):\n",
    "    zipplus=int(zipcode)+10\n",
    "    zipminus=int(zipcode)-10\n",
    "    res0 = cursor.execute('''select venuename from venue where zipcode between ? AND ?''',(zipminus,zipplus))\n",
    "    venueresult = res0.fetchall();\n",
    "    for m in venueresult:\n",
    "        strr = m[0]\n",
    "        res = cursor.execute('''Select * from events where venue = ? ''',[strr])\n",
    "        for i in res:\n",
    "            print(i)"
   ]
  },
  {
   "cell_type": "code",
   "execution_count": 19,
   "metadata": {},
   "outputs": [
    {
     "name": "stdout",
     "output_type": "stream",
     "text": [
      "(1, 'rutwickbhawsar@gmail.com', 'Hancock Recreation Centre', 10, 7, 5, '2019-08-01 11:00:00', '2019-08-01 13:00:00', 'football')\n",
      "(2, 'rutwickbhawsar@gmail.com', 'Hancock Recreation Centre', 10, 10, 5, '2019-08-01 11:00:00', '2019-08-01 13:00:00', 'football')\n",
      "(4, 'terhi.hamalainen@apple.fi', 'Mary Moore Searight Metropolitan Park', 15, 1, 0, '2019-08-01 11:00:00', '2019-08-01 13:00:00', 'badminton')\n"
     ]
    }
   ],
   "source": [
    "events_zipcode('78751')"
   ]
  },
  {
   "cell_type": "code",
   "execution_count": 15,
   "metadata": {
    "collapsed": true
   },
   "outputs": [],
   "source": [
    "# 11\n",
    "# Function to show all events at a particular Datetime\n",
    "\n",
    "def events_at_venue_date(datetime):\n",
    "    p1=cursor.execute(''' select * from events where Begintime=? ''',[datetime])\n",
    "    for m in p1:\n",
    "        print(m)\n",
    "    db.commit()"
   ]
  },
  {
   "cell_type": "code",
   "execution_count": 21,
   "metadata": {
    "collapsed": true
   },
   "outputs": [],
   "source": [
    "events_at_venue_date('2019-08-02 11:00:00')"
   ]
  },
  {
   "cell_type": "code",
   "execution_count": 16,
   "metadata": {
    "collapsed": true
   },
   "outputs": [],
   "source": [
    "# 12\n",
    "# Function to show all the User who have registered for a particular Event (only event creator can see)\n",
    "\n",
    "def show_registered(email,eventid):\n",
    "    checkevent = cursor.execute('''select eventcreator from events where eventid = ?''',[eventid])\n",
    "    creator = checkevent.fetchone()\n",
    "    strr = creator[0]\n",
    "    if strr == email: #Checking whether user is the creator of the event\n",
    "        allregistered = cursor.execute('''select userid from registered where eventid = ?''',[eventid])\n",
    "        allreg = allregistered.fetchall() \n",
    "        for num in allreg:\n",
    "            useremail = num[0]\n",
    "            printname = cursor.execute('''select name,sname,phone from users where email = ?''',[useremail])\n",
    "            for m in printname:\n",
    "                print(m)\n",
    "    else:\n",
    "        return(\"You're not the event creator, not allowed to view!\")\n",
    "    db.commit()\n",
    "    \n",
    "    "
   ]
  },
  {
   "cell_type": "code",
   "execution_count": 23,
   "metadata": {},
   "outputs": [
    {
     "name": "stdout",
     "output_type": "stream",
     "text": [
      "('Aaron', 'Mitchell', '7551434416')\n",
      "('Jo?o', 'Fernandes', '2960963270')\n",
      "('Kara', 'Nielsen', '8160395200')\n",
      "('Rutwick', 'Bhawsar', '9174121235')\n"
     ]
    }
   ],
   "source": [
    "show_registered('terhi.hamalainen@apple.fi',4)"
   ]
  },
  {
   "cell_type": "code",
   "execution_count": 17,
   "metadata": {
    "collapsed": true
   },
   "outputs": [],
   "source": [
    "#13 admin deletes user\n",
    "def delete_user(email,emailu):\n",
    "    checkadmin = cursor.execute('''select count(*) from Admin where email = ? ''',[email])\n",
    "    checka=checkadmin.fetchone()\n",
    "    flag=0\n",
    "    if (checka != (0,)):\n",
    "        checkuser = cursor.execute('''select count(*) from Users where email = ? ''',[emailu])\n",
    "        checka=checkuser.fetchone()\n",
    "        if (checka != (0,)):\n",
    "            flag=1\n",
    "                \n",
    "        else:\n",
    "            return(\"User doesn't exist!\")\n",
    "    if (flag==1):\n",
    "        #check registered table\n",
    "        checkreg=cursor.execute(''' select count(*) from registered where userid=? ''',[emailu])\n",
    "        checkr=checkreg.fetchone()\n",
    "        if (checkr != (0,)):\n",
    "            ei=cursor.execute(''' select eventid from registered where userid=? ''',[emailu])\n",
    "            cursor.execute(''' delete from registered where userid=? ''',[emailu])\n",
    "            print(\"\\n Deleted User from all Registered Events \")\n",
    "            eiall=ei.fetchall()\n",
    "            for m in eiall:\n",
    "                cursor.execute(''' update events set remainingspots=remainingspots+1 where eventid=? ''',(m,))\n",
    "                \n",
    "        #check events table\n",
    "        checkev=cursor.execute('''select count(*) from events where eventcreator =?''',[emailu])\n",
    "        checkeve=checkev.fetchone()\n",
    "        if(checkeve!=(0,)):\n",
    "            eventi=cursor.execute(''' select eventid from events where eventcreator=? ''',[emailu])\n",
    "            eventiall=eventi.fetchall()\n",
    "            for mm in eventiall:\n",
    "                strr = mm[0]\n",
    "                strint = int(strr)\n",
    "                cursor.execute(''' delete from registered where eventid=? ''',[strint])\n",
    "                cursor.execute(''' update venueslots set availability=1,eventid =null where eventid = ? ''',[strint])\n",
    "            cursor.execute(''' delete from events where eventcreator=? ''',[emailu])\n",
    "            print(\"\\n Deleted all Events by User \")\n",
    "        #delete from users table\n",
    "        cursor.execute(''' delete from Users where email = ? ''',[emailu])\n",
    "        print(\"\\n Deleted the User \")\n",
    "    else:\n",
    "        return(\"You're not an admin!\")\n",
    "    \n",
    "    db.commit()\n",
    "\n",
    "  "
   ]
  },
  {
   "cell_type": "code",
   "execution_count": 250,
   "metadata": {
    "collapsed": true
   },
   "outputs": [],
   "source": [
    "delete_user('shivangarya@gmail.com','tgoyer@apple.com')"
   ]
  },
  {
   "cell_type": "code",
   "execution_count": 18,
   "metadata": {
    "collapsed": true
   },
   "outputs": [],
   "source": [
    "# 14\n",
    "# User Unregisters from event\n",
    "def user_unregister(email,eventid):\n",
    "    checkreg=cursor.execute(''' select count(*) from registered where userid=? ''',[email])\n",
    "    checkr=checkreg.fetchone()\n",
    "    if (checkr != (0,)):\n",
    "            cursor.execute(''' delete from registered where userid=? and eventid =?''',(email,eventid))\n",
    "            print(\"\\n Unregistered User from the respective event\")\n",
    "            cursor.execute(''' update events set remainingspots=remainingspots+1 where eventid=? ''',[eventid])\n",
    "    else:\n",
    "            print(\"\\n Stop unregistering from event which you haven't registered to!\")\n",
    "    db.commit()"
   ]
  },
  {
   "cell_type": "code",
   "execution_count": 30,
   "metadata": {},
   "outputs": [
    {
     "name": "stdout",
     "output_type": "stream",
     "text": [
      "\n",
      " Unregistered User from the respective event\n"
     ]
    }
   ],
   "source": [
    "user_unregister('jfernandes@yahoo.pt',4)"
   ]
  },
  {
   "cell_type": "code",
   "execution_count": 19,
   "metadata": {
    "collapsed": true
   },
   "outputs": [],
   "source": [
    "# 15\n",
    "# Functions to show Venues near a particular zipcode\n",
    "\n",
    "def venues_zipcode(zipcode):\n",
    "    zipplus=int(zipcode)+10\n",
    "    zipminus=int(zipcode)-10\n",
    "    res0 = cursor.execute('''select venuename from venue where zipcode between ? AND ?''',(zipminus,zipplus))\n",
    "    venueresult = res0.fetchall();\n",
    "    for m in venueresult:\n",
    "          print(m)"
   ]
  },
  {
   "cell_type": "code",
   "execution_count": 34,
   "metadata": {},
   "outputs": [
    {
     "name": "stdout",
     "output_type": "stream",
     "text": [
      "('Zilker Park',)\n",
      "('Eastwoods Neighborhood Park',)\n",
      "('Pease District Park',)\n",
      "('Westenfield Neighborhood Park',)\n",
      "('Caven Lacrosse and Sports Center at Clark Field',)\n",
      "('Waterloo Neighborhood Park',)\n",
      "('Boggy Creek Greenbelt',)\n",
      "('Boggy Creek Greenbelt',)\n",
      "('Boggy Creek Greenbelt',)\n"
     ]
    }
   ],
   "source": [
    "venues_zipcode(78705)"
   ]
  },
  {
   "cell_type": "code",
   "execution_count": 52,
   "metadata": {},
   "outputs": [
    {
     "name": "stdout",
     "output_type": "stream",
     "text": [
      " Press 1 to view database \n",
      " Press 2 for functions \n",
      " Press 3 for exit\n",
      " 3\n"
     ]
    }
   ],
   "source": [
    "while(1):\n",
    "    a=input(\" Press 1 to view database \\n Press 2 for functions \\n Press 3 for exit\\n \")\n",
    "    if(a=='1'):\n",
    "        b=input(\"Which table do you want to view? \\n 1. Events \\n 2. Venue Slots \\n 3. Registered \\n 4. Venues \\n 5. Users \\n 6. Admin\\n\")\n",
    "        if(b=='1'):\n",
    "            p=cursor.execute(''' select * from events''')\n",
    "            for m in p:\n",
    "                print(m)\n",
    "        elif(b=='2'):\n",
    "            p=cursor.execute(''' select * from venueslots''')\n",
    "            for m in p:\n",
    "                print(m)\n",
    "        elif(b=='3'):\n",
    "            p=cursor.execute(''' select * from registered''')\n",
    "            for m in p:\n",
    "                print(m)\n",
    "        elif(b=='4'):\n",
    "            p=cursor.execute(''' select * from venue''')\n",
    "            for m in p:\n",
    "                print(m)\n",
    "        elif(b=='5'):\n",
    "            p=cursor.execute(''' select * from users''')\n",
    "            for m in p:\n",
    "                print(m)\n",
    "        elif(b=='6'):\n",
    "            p=cursor.execute(''' select * from admin''')\n",
    "            for m in p:\n",
    "                print(m)\n",
    "        else:\n",
    "            print(\"Wrong Choice\")\n",
    "    if(a=='2'):\n",
    "        b=input(\"Which function do you want to use? \\n 1. Add user \\n 2. Create Event \\n 3. Register user for event \\n 4. Remove event (admin only) \\n 5. Show timeslots for a venue \\n 6. Show venues for a timeslot\\n 7. Show events for a venue at a given date and time\\n 8. Add venue (admin only) \\n 9. Show events of a particular type \\n 10. Show events near a zip code \\n 11. Show all events at a particular date&time \\n 12. Show all people registered for an event (event creator only)\\n 13. Delete user (Admin only) \\n 14. Unregister from Event \\n 15. Show Venues near a Zipcode \\n\\n\")\n",
    "        if(b=='1'):\n",
    "            print(\"\\n\");\n",
    "            E=input(\"\\nEnter email:\")\n",
    "            N=input(\"\\nEnter name:\")\n",
    "            S=input(\"\\nEnter surame:\")\n",
    "            P=input(\"\\nEnter Password (Numbers Only Please):\")\n",
    "            Z=input(\"\\nEnter zipcode:\")\n",
    "            Ph=input(\"\\nEnter Phone:\")\n",
    "            t1=input(\"\\nEnter preferred sport (like gym/badminton/cycling/basketball/football):\")\n",
    "            t2=input(\"\\nEnter second sport preferece (optional):\")\n",
    "            t3=input(\"\\nEnter third sport preferece (optional):\")\n",
    "            new_user(E,N,S,P,Z,Ph,t1,t2,t3)\n",
    "            print(\"\\n\\nUser Created!\\n\")\n",
    "        if(b=='2'):\n",
    "            print(\"\\n\")\n",
    "            E=input(\"\\nEnter Email: \")\n",
    "            V = input(\"\\nEnter Venue: \")\n",
    "            C = input(\"\\nEnter Capacity: \")\n",
    "            R = input(\"\\nEnter Remaining: \")\n",
    "            F = input(\"\\nEnter Fee (USD): \")    \n",
    "            Begin = input(\"\\nEnter Start Date Time (YYYY-MM-DD HH:MM:SS): \") \n",
    "            End = input(\"\\nEnter End Date Time (YYYY-MM-DD HH:MM:SS): \") \n",
    "            T = input(\"\\nEnter Type: \")\n",
    "            new_event(E,V,C,R,F,Begin,End,T)\n",
    "            print(\"\\nNew Event Created!\")\n",
    "        if(b=='3'):\n",
    "            print(\"\\n\")\n",
    "            EID=input(\"\\nEnter EventID: \")\n",
    "            Email= input(\"\\nEnter Email: \")\n",
    "            user_registration(EID,Email)\n",
    "            print(\"\\nYou have now registered for the event!\")\n",
    "        if(b=='4'):\n",
    "            print(\"\\n\")\n",
    "            EID=input(\"\\nEnter EventID: \")\n",
    "            Email=input(\"\\nEnter Admin Email: \")\n",
    "            remove_event(EID,Email)\n",
    "        if(b=='5'):\n",
    "            print(\"\\n\")\n",
    "            V = input(\"\\nEnter Venue: \")\n",
    "            display_timeslot_available(V)\n",
    "        if(b=='6'):\n",
    "            print(\"\\n\")\n",
    "            Begin = input(\"\\nEnter Date Time (YYYY-MM-DD HH:MM:SS): \") \n",
    "            display_available_venues(Begin)\n",
    "        if(b=='7'):\n",
    "            print(\"\\n\")\n",
    "            V = input(\"\\nEnter Venue: \")\n",
    "            Begin = input(\"\\nEnter Date Time (YYYY-MM-DD HH:MM:SS): \") \n",
    "            events_at_venue(V,Begin)\n",
    "        if(b=='8'):\n",
    "            print(\"\\n\")\n",
    "            E=input(\"\\nEnter Admin Email: \")\n",
    "            V = input(\"\\nEnter Venue: \")\n",
    "            L = input(\"\\nEnter Location: \")\n",
    "            Z = input(\"\\nEnter Zipcode: \")\n",
    "            F = input(\"\\nEnter Fee (USD): \")\n",
    "            venue_creation(E,V,L,Z,F)\n",
    "        if(b=='9'):\n",
    "            print(\"\\n\")\n",
    "            E=input(\"\\nEnter Sport: \")\n",
    "            events_type(E)\n",
    "        if(b=='10'):\n",
    "            print(\"\\n\")\n",
    "            E=input(\"\\nEnter Zipcode: \")\n",
    "            events_zipcode(E)\n",
    "        if(b=='11'):\n",
    "            print(\"\\n\")\n",
    "            Begin = input(\"\\nEnter Date Time (YYYY-MM-DD HH:MM:SS): \")\n",
    "            events_at_venue_date(Begin)\n",
    "        if(b=='12'):\n",
    "            print(\"\\n\")\n",
    "            Email=input(\"\\nEnter Creator Email: \")\n",
    "            EID=input(\"\\nEnter EventID: \")\n",
    "            show_registered(Email,EID)\n",
    "        if(b=='13'):\n",
    "            print(\"\\n\")\n",
    "            E=input(\"\\nEnter Admin Email: \")\n",
    "            EU=input(\"\\nEnter User Email: \")\n",
    "            delete_user(E,EU)\n",
    "        if(b=='14'):\n",
    "            print(\"\\n\")\n",
    "            E=input(\"\\nEnter User Email: \")\n",
    "            ED=input(\"\\nEnter EventID: \")\n",
    "            user_unregister(E,ED)\n",
    "        if(b=='15'):\n",
    "            print(\"\\n\")\n",
    "            E=input(\"\\nEnter Zipcode: \")\n",
    "            venues_zipcode(E)\n",
    "    if(a=='3'):\n",
    "        break;\n",
    "        \n",
    "        "
   ]
  },
  {
   "cell_type": "code",
   "execution_count": 53,
   "metadata": {
    "collapsed": true
   },
   "outputs": [],
   "source": [
    "db.commit()\n"
   ]
  },
  {
   "cell_type": "code",
   "execution_count": 54,
   "metadata": {
    "collapsed": true
   },
   "outputs": [],
   "source": [
    "db.close()"
   ]
  },
  {
   "cell_type": "code",
   "execution_count": null,
   "metadata": {
    "collapsed": true
   },
   "outputs": [],
   "source": []
  }
 ],
 "metadata": {
  "kernelspec": {
   "display_name": "Python 3",
   "language": "python",
   "name": "python3"
  },
  "language_info": {
   "codemirror_mode": {
    "name": "ipython",
    "version": 3
   },
   "file_extension": ".py",
   "mimetype": "text/x-python",
   "name": "python",
   "nbconvert_exporter": "python",
   "pygments_lexer": "ipython3",
   "version": "3.6.1"
  }
 },
 "nbformat": 4,
 "nbformat_minor": 2
}
