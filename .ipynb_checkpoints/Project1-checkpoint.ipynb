{
 "cells": [
  {
   "cell_type": "markdown",
   "metadata": {},
   "source": [
    "# Shivang Arya\n",
    "# Rutwick Bhawsar\n",
    "# Project 1\n"
   ]
  },
  {
   "cell_type": "code",
   "execution_count": 1,
   "metadata": {},
   "outputs": [],
   "source": [
    "import sqlite3"
   ]
  },
  {
   "cell_type": "code",
   "execution_count": 7,
   "metadata": {},
   "outputs": [],
   "source": [
    "db=sqlite3.connect(\"E:/Usr/UT_APAD/Project 1/Advanced-Programming-and-App-Development/Project1.db\")"
   ]
  },
  {
   "cell_type": "code",
   "execution_count": 8,
   "metadata": {},
   "outputs": [],
   "source": [
    "cursor = db.cursor()"
   ]
  },
  {
   "cell_type": "code",
   "execution_count": 9,
   "metadata": {},
   "outputs": [
    {
     "data": {
      "text/plain": [
       "<sqlite3.Cursor at 0x1a68c411c00>"
      ]
     },
     "execution_count": 9,
     "metadata": {},
     "output_type": "execute_result"
    }
   ],
   "source": [
    "cursor.execute(('''    CREATE TABLE Venue(venueid INTEGER PRIMARY KEY, venuename TEXT,\n",
    "                       location TEXT, zipcode INTEGER, fees INTEGER) '''))"
   ]
  },
  {
   "cell_type": "code",
   "execution_count": 28,
   "metadata": {},
   "outputs": [
    {
     "data": {
      "text/plain": [
       "<sqlite3.Cursor at 0x1a68c411c00>"
      ]
     },
     "execution_count": 28,
     "metadata": {},
     "output_type": "execute_result"
    }
   ],
   "source": [
    "VN = 'Circle C Ranch Metropolitan Park on Slaughter Creek'\n",
    "L = '6301 W Slaughter Ln, Austin, TX'\n",
    "ZC = 78739\n",
    "Fees = 10\n",
    "\n",
    "cursor.execute(''' INSERT INTO VENUE (venuename, location, zipcode, fees) VALUES (?,?,?,?)''',(VN,L,ZC,Fees))"
   ]
  },
  {
   "cell_type": "code",
   "execution_count": 29,
   "metadata": {},
   "outputs": [
    {
     "name": "stdout",
     "output_type": "stream",
     "text": [
      "(1, 'Zilker Park', ' 2100 Barton Springs Rd, Austin, TX ', 78704, 0)\n",
      "(2, 'UT Intramural Fields', ' 4901 Guadalupe St, Austin, TX ', 78751, 12)\n",
      "(3, 'Hancock Recreation Centre', ' 811 E 41st St, Austin, TX ', 78751, 0)\n",
      "(4, 'Eastwoods Neighborhood Park', ' 3001 Harris Park Ave, Austin, TX ', 78705, 5)\n",
      "(5, 'Pease District Park', ' 31100 Kingsbury St, Austin, TX  ', 78705, 7)\n",
      "(6, 'Westenfield Neighborhood Park', ' 2008 Enfield Rd, Austin, TX   ', 78703, 0)\n",
      "(7, 'Emma Long Metropolitan Park', ' 1600 City Park Rd, Austin, TX  ', 78730, 20)\n",
      "(8, 'Stoney Creek Park', 'Sebastian Bend, Pflugerville, TX', 78660, 0)\n",
      "(9, 'Little Walnut Creek Greenbelt', '5100 E 51st St, Austin, TX ', 78723, 12)\n",
      "(10, 'Caven Lacrosse and Sports Center at Clark Field', '1910 San Jacinto Boulevard, Austin, TX', 78712, 0)\n",
      "(11, 'Waterloo Neighborhood Park', '500 E 12th St, Austin, TX', 78701, 5)\n",
      "(12, 'Longview Neighborhood Park', '7609 Longview Rd, Austin, TX', 78745, 2)\n",
      "(13, 'Mary Moore Searight Metropolitan Park', '907 West Slaughter Lane, Austin, TX', 78748, 2)\n",
      "(14, 'Circle C Ranch Metropolitan Park on Slaughter Creek', '6301 W Slaughter Ln, Austin, TX', 78739, 10)\n"
     ]
    }
   ],
   "source": [
    "cursor.execute('''select * from venue''')\n",
    "p1 = cursor.fetchall() #retrieve the first row\n",
    "for m in p1:\n",
    "    print(m)"
   ]
  },
  {
   "cell_type": "code",
   "execution_count": 32,
   "metadata": {
    "scrolled": true
   },
   "outputs": [
    {
     "data": {
      "text/plain": [
       "<sqlite3.Cursor at 0x1a68c411c00>"
      ]
     },
     "execution_count": 32,
     "metadata": {},
     "output_type": "execute_result"
    }
   ],
   "source": [
    "cursor.execute(('''    CREATE TABLE Users(email text PRIMARY KEY, name TEXT, sname TEXT, password integer,\n",
    "                       zipcode INTEGER, phone TEXT, etype1 text, etype2 text default null , etype3 text default null) '''))"
   ]
  },
  {
   "cell_type": "code",
   "execution_count": 34,
   "metadata": {},
   "outputs": [],
   "source": [
    "db.commit()"
   ]
  },
  {
   "cell_type": "code",
   "execution_count": 36,
   "metadata": {
    "scrolled": true
   },
   "outputs": [
    {
     "data": {
      "text/plain": [
       "<sqlite3.Cursor at 0x1a68c411c00>"
      ]
     },
     "execution_count": 36,
     "metadata": {},
     "output_type": "execute_result"
    }
   ],
   "source": [
    "cursor.execute(''' CREATE TABLE Admin(name text, email text, FOREIGN KEY(email) REFERENCES users(email))''')"
   ]
  },
  {
   "cell_type": "code",
   "execution_count": 41,
   "metadata": {},
   "outputs": [
    {
     "data": {
      "text/plain": [
       "<sqlite3.Cursor at 0x1a68c411c00>"
      ]
     },
     "execution_count": 41,
     "metadata": {},
     "output_type": "execute_result"
    }
   ],
   "source": [
    "e = 'rutwickbhawsar@gmail.com'\n",
    "n = 'Rutwick'\n",
    "s = 'Bhawsar'\n",
    "p = 7612\n",
    "zipcode = 78705\n",
    "pho = 917-412-1235\n",
    "etpe= 'football'\n",
    "ett = 'basketball'\n",
    "ettt = 'tennis'\n",
    "\n",
    "\n",
    "\n",
    "cursor.execute('''Insert into Users (email,name,sname,password,zipcode,phone,etype1,etype2,etype3) values (?,?,?,?,?,?,?,?,?)''',(e,n,s,p,zipcode,pho,etpe,ett,ettt))"
   ]
  },
  {
   "cell_type": "code",
   "execution_count": 44,
   "metadata": {},
   "outputs": [],
   "source": [
    "db.commit()\n"
   ]
  },
  {
   "cell_type": "code",
   "execution_count": 46,
   "metadata": {},
   "outputs": [
    {
     "name": "stdout",
     "output_type": "stream",
     "text": [
      "('shivangarya@gmail.com', 'Shivang', 'Arya', 1210, 78710, '-1534', 'football', 'tennis', 'badminton')\n",
      "('rutwickbhawsar@gmail.com', 'Rutwick', 'Bhawsar', 7612, 78705, '-730', 'football', 'basketball', 'tennis')\n"
     ]
    }
   ],
   "source": [
    "cursor.execute('''select * from users''')\n",
    "p1 = cursor.fetchall() #retrieve the first row\n",
    "for m in p1:\n",
    "    print(m)"
   ]
  },
  {
   "cell_type": "code",
   "execution_count": 49,
   "metadata": {},
   "outputs": [
    {
     "data": {
      "text/plain": [
       "<sqlite3.Cursor at 0x1a68c411c00>"
      ]
     },
     "execution_count": 49,
     "metadata": {},
     "output_type": "execute_result"
    }
   ],
   "source": [
    "na = 'Rutwick Bhawsar'\n",
    "em = 'rutwickbhawsar@gmail.com'\n",
    "cursor.execute('''Insert into Admin (name,email) values (?,?)''',(na,em))"
   ]
  },
  {
   "cell_type": "code",
   "execution_count": 50,
   "metadata": {},
   "outputs": [
    {
     "name": "stdout",
     "output_type": "stream",
     "text": [
      "('Shivang Arya', 'shivangarya@gmail.com')\n",
      "('Rutwick Bhawsar', 'rutwickbhawsar@gmail.com')\n"
     ]
    }
   ],
   "source": [
    "cursor.execute('''select * from admin''')\n",
    "p1 = cursor.fetchall() #retrieve the first row\n",
    "for m in p1:\n",
    "    print(m)"
   ]
  },
  {
   "cell_type": "code",
   "execution_count": 51,
   "metadata": {},
   "outputs": [],
   "source": [
    "db.commit()"
   ]
  },
  {
   "cell_type": "code",
   "execution_count": null,
   "metadata": {},
   "outputs": [],
   "source": []
  }
 ],
 "metadata": {
  "kernelspec": {
   "display_name": "Python 3",
   "language": "python",
   "name": "python3"
  },
  "language_info": {
   "codemirror_mode": {
    "name": "ipython",
    "version": 3
   },
   "file_extension": ".py",
   "mimetype": "text/x-python",
   "name": "python",
   "nbconvert_exporter": "python",
   "pygments_lexer": "ipython3",
   "version": "3.7.3"
  }
 },
 "nbformat": 4,
 "nbformat_minor": 2
}
