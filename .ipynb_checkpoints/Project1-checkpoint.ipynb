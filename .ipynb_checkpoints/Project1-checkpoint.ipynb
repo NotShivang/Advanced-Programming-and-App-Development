{
 "cells": [
  {
   "cell_type": "markdown",
   "metadata": {},
   "source": [
    "# Shivang Arya\n",
    "# Rutwick Bhawsar\n",
    "# Project 1\n"
   ]
  },
  {
   "cell_type": "code",
   "execution_count": 1,
   "metadata": {},
   "outputs": [],
   "source": [
    "import sqlite3\n",
    "import pandas as pd\n",
    "import csv"
   ]
  },
  {
   "cell_type": "code",
   "execution_count": 52,
   "metadata": {},
   "outputs": [],
   "source": [
    "db=sqlite3.connect(\"E:/Usr/UT_APAD/Project 1/Advanced-Programming-and-App-Development/Project1.db\")"
   ]
  },
  {
   "cell_type": "code",
   "execution_count": 3,
   "metadata": {},
   "outputs": [],
   "source": [
    "cursor = db.cursor()"
   ]
  },
  {
   "cell_type": "code",
   "execution_count": 4,
   "metadata": {},
   "outputs": [
    {
     "name": "stderr",
     "output_type": "stream",
     "text": [
      "ERROR:root:An unexpected error occurred while tokenizing input\n",
      "The following traceback may be corrupted or invalid\n",
      "The error message is: ('EOF in multi-line string', (1, 69))\n",
      "\n"
     ]
    },
    {
     "ename": "OperationalError",
     "evalue": "table Venue already exists",
     "output_type": "error",
     "traceback": [
      "\u001b[1;31m---------------------------------------------------------------------------\u001b[0m",
      "\u001b[1;31mOperationalError\u001b[0m                          Traceback (most recent call last)",
      "\u001b[1;32m<ipython-input-4-0887d36f072c>\u001b[0m in \u001b[0;36m<module>\u001b[1;34m()\u001b[0m\n\u001b[0;32m      1\u001b[0m cursor.execute(('''    CREATE TABLE Venue(venueid INTEGER PRIMARY KEY, venuename TEXT,\n\u001b[1;32m----> 2\u001b[1;33m                        location TEXT, zipcode INTEGER, fees INTEGER) '''))\n\u001b[0m",
      "\u001b[1;31mOperationalError\u001b[0m: table Venue already exists"
     ]
    }
   ],
   "source": [
    "cursor.execute(('''    CREATE TABLE Venue(venueid INTEGER PRIMARY KEY, venuename TEXT,\n",
    "                       location TEXT, zipcode INTEGER, fees INTEGER) '''))"
   ]
  },
  {
   "cell_type": "code",
   "execution_count": 28,
   "metadata": {},
   "outputs": [
    {
     "data": {
      "text/plain": [
       "<sqlite3.Cursor at 0x1a68c411c00>"
      ]
     },
     "execution_count": 28,
     "metadata": {},
     "output_type": "execute_result"
    }
   ],
   "source": [
    "VN = 'Circle C Ranch Metropolitan Park on Slaughter Creek'\n",
    "L = '6301 W Slaughter Ln, Austin, TX'\n",
    "ZC = 78739\n",
    "Fees = 10\n",
    "\n",
    "cursor.execute(''' INSERT INTO VENUE (venuename, location, zipcode, fees) VALUES (?,?,?,?)''',(VN,L,ZC,Fees))"
   ]
  },
  {
   "cell_type": "code",
   "execution_count": 29,
   "metadata": {},
   "outputs": [
    {
     "name": "stdout",
     "output_type": "stream",
     "text": [
      "(1, 'Zilker Park', ' 2100 Barton Springs Rd, Austin, TX ', 78704, 0)\n",
      "(2, 'UT Intramural Fields', ' 4901 Guadalupe St, Austin, TX ', 78751, 12)\n",
      "(3, 'Hancock Recreation Centre', ' 811 E 41st St, Austin, TX ', 78751, 0)\n",
      "(4, 'Eastwoods Neighborhood Park', ' 3001 Harris Park Ave, Austin, TX ', 78705, 5)\n",
      "(5, 'Pease District Park', ' 31100 Kingsbury St, Austin, TX  ', 78705, 7)\n",
      "(6, 'Westenfield Neighborhood Park', ' 2008 Enfield Rd, Austin, TX   ', 78703, 0)\n",
      "(7, 'Emma Long Metropolitan Park', ' 1600 City Park Rd, Austin, TX  ', 78730, 20)\n",
      "(8, 'Stoney Creek Park', 'Sebastian Bend, Pflugerville, TX', 78660, 0)\n",
      "(9, 'Little Walnut Creek Greenbelt', '5100 E 51st St, Austin, TX ', 78723, 12)\n",
      "(10, 'Caven Lacrosse and Sports Center at Clark Field', '1910 San Jacinto Boulevard, Austin, TX', 78712, 0)\n",
      "(11, 'Waterloo Neighborhood Park', '500 E 12th St, Austin, TX', 78701, 5)\n",
      "(12, 'Longview Neighborhood Park', '7609 Longview Rd, Austin, TX', 78745, 2)\n",
      "(13, 'Mary Moore Searight Metropolitan Park', '907 West Slaughter Lane, Austin, TX', 78748, 2)\n",
      "(14, 'Circle C Ranch Metropolitan Park on Slaughter Creek', '6301 W Slaughter Ln, Austin, TX', 78739, 10)\n"
     ]
    }
   ],
   "source": [
    "cursor.execute('''select * from venue''')\n",
    "p1 = cursor.fetchall() #retrieve the first row\n",
    "for m in p1:\n",
    "    print(m)"
   ]
  },
  {
   "cell_type": "code",
   "execution_count": 32,
   "metadata": {
    "scrolled": true
   },
   "outputs": [
    {
     "data": {
      "text/plain": [
       "<sqlite3.Cursor at 0x1a68c411c00>"
      ]
     },
     "execution_count": 32,
     "metadata": {},
     "output_type": "execute_result"
    }
   ],
   "source": [
    "cursor.execute(('''    CREATE TABLE Users(email text PRIMARY KEY, name TEXT, sname TEXT, password integer,\n",
    "                       zipcode INTEGER, phone TEXT, etype1 text, etype2 text default null , etype3 text default null) '''))"
   ]
  },
  {
   "cell_type": "code",
   "execution_count": 34,
   "metadata": {
    "collapsed": true
   },
   "outputs": [],
   "source": [
    "db.commit()"
   ]
  },
  {
   "cell_type": "code",
   "execution_count": 36,
   "metadata": {
    "scrolled": true
   },
   "outputs": [
    {
     "data": {
      "text/plain": [
       "<sqlite3.Cursor at 0x1a68c411c00>"
      ]
     },
     "execution_count": 36,
     "metadata": {},
     "output_type": "execute_result"
    }
   ],
   "source": [
    "cursor.execute(''' CREATE TABLE Admin(name text, email text, FOREIGN KEY(email) REFERENCES users(email))''')"
   ]
  },
  {
   "cell_type": "code",
   "execution_count": 34,
   "metadata": {},
   "outputs": [
    {
     "ename": "IntegrityError",
     "evalue": "UNIQUE constraint failed: Users.email",
     "output_type": "error",
     "traceback": [
      "\u001b[1;31m---------------------------------------------------------------------------\u001b[0m",
      "\u001b[1;31mIntegrityError\u001b[0m                            Traceback (most recent call last)",
      "\u001b[1;32m<ipython-input-34-3fd615ae4165>\u001b[0m in \u001b[0;36m<module>\u001b[1;34m()\u001b[0m\n\u001b[0;32m     11\u001b[0m \u001b[1;33m\u001b[0m\u001b[0m\n\u001b[0;32m     12\u001b[0m \u001b[1;33m\u001b[0m\u001b[0m\n\u001b[1;32m---> 13\u001b[1;33m \u001b[0mcursor\u001b[0m\u001b[1;33m.\u001b[0m\u001b[0mexecute\u001b[0m\u001b[1;33m(\u001b[0m\u001b[1;34m'''Insert into Users (email,name,sname,password,zipcode,phone,etype1,etype2,etype3) values (?,?,?,?,?,?,?,?,?)'''\u001b[0m\u001b[1;33m,\u001b[0m\u001b[1;33m(\u001b[0m\u001b[0me\u001b[0m\u001b[1;33m,\u001b[0m\u001b[0mn\u001b[0m\u001b[1;33m,\u001b[0m\u001b[0ms\u001b[0m\u001b[1;33m,\u001b[0m\u001b[0mp\u001b[0m\u001b[1;33m,\u001b[0m\u001b[0mzipcode\u001b[0m\u001b[1;33m,\u001b[0m\u001b[0mpho\u001b[0m\u001b[1;33m,\u001b[0m\u001b[0metpe\u001b[0m\u001b[1;33m,\u001b[0m\u001b[0mett\u001b[0m\u001b[1;33m,\u001b[0m\u001b[0mettt\u001b[0m\u001b[1;33m)\u001b[0m\u001b[1;33m)\u001b[0m\u001b[1;33m\u001b[0m\u001b[0m\n\u001b[0m",
      "\u001b[1;31mIntegrityError\u001b[0m: UNIQUE constraint failed: Users.email"
     ]
    }
   ],
   "source": [
    "e = 'rutwickbhawsar@gmail.com'\n",
    "n = 'Rutwick'\n",
    "s = 'Bhawsar'\n",
    "p = 7612\n",
    "zipcode = 78705\n",
    "pho = 9174121235\n",
    "etpe= 'football'\n",
    "ett = 'basketball'\n",
    "ettt = 'tennis'\n",
    "\n",
    "\n",
    "\n",
    "cursor.execute('''Insert into Users (email,name,sname,password,zipcode,phone,etype1,etype2,etype3) values (?,?,?,?,?,?,?,?,?)''',(e,n,s,p,zipcode,pho,etpe,ett,ettt))"
   ]
  },
  {
   "cell_type": "code",
   "execution_count": 55,
   "metadata": {},
   "outputs": [],
   "source": [
    "with open('C:/Users/aryas_000/Downloads/Users.csv') as csvfile:\n",
    "    readCSV = csv.reader(csvfile, delimiter=',')\n",
    "    for row in readCSV:\n",
    "        pi = int(row[3])\n",
    "        zp = int(row[4]) \n",
    "        ph = int(row[5]) \n",
    "        cursor.execute(\"INSERT or REPLACE INTO Users (email,name,sname,password,zipcode,phone,etype1,etype2,etype3) VALUES (?,?,?,?,?,?,?,?,?)\", [row[0],row[1],row[2],pi,zp,ph,row[6],row[7],row[8]])"
   ]
  },
  {
   "cell_type": "code",
   "execution_count": null,
   "metadata": {
    "collapsed": true
   },
   "outputs": [],
   "source": [
    "db.commit()\n"
   ]
  },
  {
   "cell_type": "code",
   "execution_count": 56,
   "metadata": {},
   "outputs": [
    {
     "name": "stdout",
     "output_type": "stream",
     "text": [
      "('shivangarya@gmail.com', 'Shivang', 'Arya', 1210, 78710, '-1534', 'football', 'tennis', 'badminton')\n",
      "('rutwickbhawsar@gmail.com', 'Rutwick', 'Bhawsar', 7612, 78705, '-730', 'football', 'basketball', 'tennis')\n",
      "('luisg@embraer.com.br', 'Lu¡s', 'Gon‡alves', 4564, 78794, '3932638841', 'Football', 'Badminton', 'Baseball')\n",
      "('leonekohler@surfeu.de', 'Leonie', 'K”hler', 4217, 78728, '2595995925', 'Hockey', 'Skateboarding', 'Running')\n",
      "('ftremblay@gmail.com', 'Fran‡ois', 'Tremblay', 4311, 78740, '8562383794', 'Rugby', 'Running', 'Baseball')\n",
      "('bjorn.hansen@yahoo.no', 'Bj?rn', 'Hansen', 5231, 78721, '6896848029', 'Kayaking', 'Basketball', 'Rugby')\n",
      "('frantisekw@jetbrains.com', 'Franti?ek', 'Wichterlov\\xa0', 9261, 78733, '4615969574', 'Hockey', 'Football', 'Football')\n",
      "('hholy@gmail.com', 'Helena', 'Hol?', 4311, 78755, '5125491222', 'Rugby', 'Cycling', 'Swimming')\n",
      "('astrid.gruber@apple.at', 'Astrid', 'Gruber', 9670, 78776, '7871257717', 'Baseball', 'Volleyball', 'Kayaking')\n",
      "('daan_peeters@apple.be', 'Daan', 'Peeters', 7194, 78764, '6753205279', 'Climbing', 'Tennis', 'Football')\n",
      "('kara.nielsen@jubii.dk', 'Kara', 'Nielsen', 2445, 78770, '8160395200', 'Volleyball', 'Cycling', 'Basketball')\n",
      "('eduardo@woodstock.com.br', 'Eduardo', 'Martins', 5995, 78792, '7755094765', 'Climbing', 'Basketball', 'Football')\n",
      "('alero@uol.com.br', 'Alexandre', 'Rocha', 8021, 78714, '1650616699', 'Climbing', 'Tennis', 'Skateboarding')\n",
      "('roberto.almeida@riotur.gov.br', 'Roberto', 'Almeida', 5015, 78709, '9090050881', 'Running', 'Basketball', 'Kayaking')\n",
      "('fernadaramos4@uol.com.br', 'Fernanda', 'Ramos', 8273, 78786, '2994608290', 'Volleyball', 'Hockey', 'Climbing')\n",
      "('mphilips12@shaw.ca', 'Mark', 'Philips', 7603, 78711, '1594797734', 'Rugby', 'Football', 'Kayaking')\n",
      "('jenniferp@rogers.ca', 'Jennifer', 'Peterson', 5156, 78798, '7979577695', 'Hockey', 'Kayaking', 'Running')\n",
      "('fharris@google.com', 'Frank', 'Harris', 4764, 78765, '8640059952', 'Running', 'Gym', 'Cycling')\n",
      "('jacksmith@microsoft.com', 'Jack', 'Smith', 7170, 78701, '3828010298', 'Basketball', 'Tennis', 'Gym')\n",
      "('michelleb@aol.com', 'Michelle', 'Brooks', 7450, 78790, '2018557287', 'Badminton', 'Volleyball', 'Kayaking')\n",
      "('tgoyer@apple.com', 'Tim', 'Goyer', 6739, 78705, '8240958758', 'Volleyball', 'Hockey', 'Cycling')\n",
      "('dmiller@comcast.com', 'Dan', 'Miller', 8872, 78779, '8245505363', 'Football', 'Rugby', 'Tennis')\n",
      "('kachase@hotmail.com', 'Kathy', 'Chase', 5158, 78776, '1118183300', 'Swimming', 'Baseball', 'Volleyball')\n",
      "('hleacock@gmail.com', 'Heather', 'Leacock', 1948, 78792, '4147811296', 'Baseball', 'Kayaking', 'Football')\n",
      "('johngordon22@yahoo.com', 'John', 'Gordon', 5345, 78721, '1135420565', 'Swimming', 'Hockey', 'Gym')\n",
      "('fralston@gmail.com', 'Frank', 'Ralston', 2800, 78723, '6213838935', 'Basketball', 'Volleyball', 'Skateboarding')\n",
      "('vstevens@yahoo.com', 'Victor', 'Stevens', 5422, 78759, '7780542508', 'Running', 'Hockey', 'Baseball')\n",
      "('ricunningham@hotmail.com', 'Richard', 'Cunningham', 1898, 78799, '2662287069', 'Football', 'Kayaking', 'Gym')\n",
      "('patrick.gray@aol.com', 'Patrick', 'Gray', 3354, 78732, '1563951033', 'Hockey', 'Gym', 'Volleyball')\n",
      "('jubarnett@gmail.com', 'Julia', 'Barnett', 1209, 78716, '5448547797', 'Badminton', 'Swimming', 'Running')\n",
      "('robbrown@shaw.ca', 'Robert', 'Brown', 2044, 78741, '8463648558', 'Baseball', 'Volleyball', 'Badminton')\n",
      "('edfrancis@yachoo.ca', 'Edward', 'Francis', 2913, 78759, '8340478419', 'Tennis', 'Rugby', 'Hockey')\n",
      "('marthasilk@gmail.com', 'Martha', 'Silk', 7383, 78731, '8107710781', 'Hockey', 'Tennis', 'Badminton')\n",
      "('aaronmitchell@yahoo.ca', 'Aaron', 'Mitchell', 5493, 78785, '7551434416', 'Badminton', 'Football', 'Gym')\n",
      "('ellie.sullivan@shaw.ca', 'Ellie', 'Sullivan', 5017, 78716, '9060922108', 'Volleyball', 'Climbing', 'Football')\n",
      "('jfernandes@yahoo.pt', 'Jo?o', 'Fernandes', 8562, 78729, '2960963270', 'Tennis', 'Gym', 'Skateboarding')\n",
      "('masampaio@sapo.pt', 'Madalena', 'Sampaio', 5683, 78707, '4630765478', 'Baseball', 'Running', 'Climbing')\n",
      "('hannah.schneider@yahoo.de', 'Hannah', 'Schneider', 8916, 78757, '4755658475', 'Kayaking', 'Hockey', 'Badminton')\n",
      "('fzimmermann@yahoo.de', 'Fynn', 'Zimmermann', 6421, 78706, '1719282247', 'Basketball', 'Rugby', 'Gym')\n",
      "('nschroder@surfeu.de', 'Niklas', 'Schr”der', 3027, 78799, '7384186553', 'Basketball', 'Basketball', 'Football')\n",
      "('camille.bernard@yahoo.fr', 'Camille', 'Bernard', 8535, 78712, '9872450551', 'Swimming', 'Gym', 'Badminton')\n",
      "('dominiquelefebvre@gmail.com', 'Dominique', 'Lefebvre', 1278, 78754, '3062244031', 'Volleyball', 'Badminton', 'Gym')\n",
      "('marc.dubois@hotmail.com', 'Marc', 'Dubois', 4772, 78782, '4908693572', 'Rugby', 'Badminton', 'Volleyball')\n",
      "('wyatt.girard@yahoo.fr', 'Wyatt', 'Girard', 1325, 78755, '6520760365', 'Volleyball', 'Running', 'Rugby')\n",
      "('isabelle_mercier@apple.fr', 'Isabelle', 'Mercier', 3458, 78719, '8878378517', 'Kayaking', 'Football', 'Running')\n",
      "('terhi.hamalainen@apple.fi', 'Terhi', 'H„m„l„inen', 4155, 78776, '3412792186', 'Badminton', 'Baseball', 'Basketball')\n",
      "('ladislav_kovacs@apple.hu', 'Ladislav', 'Kov\\xa0cs', 1690, 78764, '6628859745', 'Skateboarding', 'Running', 'Hockey')\n",
      "('hughoreilly@apple.ie', 'Hugh', \"O'Reilly\", 8808, 78793, '4061951562', 'Skateboarding', 'Basketball', 'Volleyball')\n",
      "('lucas.mancini@yahoo.it', 'Lucas', 'Mancini', 4379, 78700, '2587152247', 'Basketball', 'Basketball', 'Baseball')\n",
      "('johavanderberg@yahoo.nl', 'Johannes', 'Van der Berg', 5141, 78759, '2536930185', 'Rugby', 'Gym', 'Baseball')\n",
      "('stanis?aw.w¢jcik@wp.pl', 'Stanis?aw', 'W¢jcik', 2475, 78790, '8014770483', 'Basketball', 'Climbing', 'Baseball')\n",
      "('enrique_munoz@yahoo.es', 'Enrique', 'Mu¤oz', 1176, 78732, '6021833914', 'Running', 'Badminton', 'Cycling')\n",
      "('joakim.johansson@yahoo.se', 'Joakim', 'Johansson', 7817, 78719, '6701138458', 'Badminton', 'Running', 'Football')\n",
      "('emma_jones@hotmail.com', 'Emma', 'Jones', 3459, 78759, '4212911072', 'Baseball', 'Running', 'Rugby')\n",
      "('phil.hughes@gmail.com', 'Phil', 'Hughes', 7819, 78782, '6973307290', 'Badminton', 'Kayaking', 'Hockey')\n",
      "('steve.murray@yahoo.uk', 'Steve', 'Murray', 8282, 78770, '3172088577', 'Kayaking', 'Badminton', 'Rugby')\n",
      "('mark.taylor@yahoo.au', 'Mark', 'Taylor', 6391, 78745, '8234622007', 'Gym', 'Swimming', 'Basketball')\n",
      "('diego.gutierrez@yahoo.ar', 'Diego', 'Guti‚rrez', 5724, 78721, '2343371575', 'Swimming', 'Climbing', 'Cycling')\n",
      "('luisrojas@yahoo.cl', 'Luis', 'Rojas', 4673, 78777, '3689273108', 'Kayaking', 'Rugby', 'Hockey')\n",
      "('manoj.pareek@rediff.com', 'Manoj', 'Pareek', 5806, 78797, '8836746727', 'Kayaking', 'Skateboarding', 'Basketball')\n",
      "('puja_srivastava@yahoo.in', 'Puja', 'Srivastava', 1668, 78776, '5736045704', 'Climbing', 'Basketball', 'Football')\n"
     ]
    }
   ],
   "source": [
    "cursor.execute('''select * from users''')\n",
    "p1 = cursor.fetchall() #retrieve the first row\n",
    "for m in p1:\n",
    "    print(m)"
   ]
  },
  {
   "cell_type": "code",
   "execution_count": 49,
   "metadata": {},
   "outputs": [
    {
     "data": {
      "text/plain": [
       "<sqlite3.Cursor at 0x1a68c411c00>"
      ]
     },
     "execution_count": 49,
     "metadata": {},
     "output_type": "execute_result"
    }
   ],
   "source": [
    "na = 'Rutwick Bhawsar'\n",
    "em = 'rutwickbhawsar@gmail.com'\n",
    "cursor.execute('''Insert into Admin (name,email) values (?,?)''',(na,em))"
   ]
  },
  {
   "cell_type": "code",
   "execution_count": 60,
   "metadata": {},
   "outputs": [
    {
     "name": "stdout",
     "output_type": "stream",
     "text": [
      "(1, 'Zilker Park', ' 2100 Barton Springs Rd, Austin, TX ', 78704, 0)\n",
      "(2, 'UT Intramural Fields', ' 4901 Guadalupe St, Austin, TX ', 78751, 12)\n",
      "(3, 'Hancock Recreation Centre', ' 811 E 41st St, Austin, TX ', 78751, 0)\n",
      "(4, 'Eastwoods Neighborhood Park', ' 3001 Harris Park Ave, Austin, TX ', 78705, 5)\n",
      "(5, 'Pease District Park', ' 31100 Kingsbury St, Austin, TX  ', 78705, 7)\n",
      "(6, 'Westenfield Neighborhood Park', ' 2008 Enfield Rd, Austin, TX   ', 78703, 0)\n",
      "(7, 'Emma Long Metropolitan Park', ' 1600 City Park Rd, Austin, TX  ', 78730, 20)\n",
      "(8, 'Stoney Creek Park', 'Sebastian Bend, Pflugerville, TX', 78660, 0)\n",
      "(9, 'Little Walnut Creek Greenbelt', '5100 E 51st St, Austin, TX ', 78723, 12)\n",
      "(10, 'Caven Lacrosse and Sports Center at Clark Field', '1910 San Jacinto Boulevard, Austin, TX', 78712, 0)\n",
      "(11, 'Waterloo Neighborhood Park', '500 E 12th St, Austin, TX', 78701, 5)\n",
      "(12, 'Longview Neighborhood Park', '7609 Longview Rd, Austin, TX', 78745, 2)\n",
      "(13, 'Mary Moore Searight Metropolitan Park', '907 West Slaughter Lane, Austin, TX', 78748, 2)\n",
      "(14, 'Circle C Ranch Metropolitan Park on Slaughter Creek', '6301 W Slaughter Ln, Austin, TX', 78739, 10)\n"
     ]
    }
   ],
   "source": [
    "cursor.execute('''select * from venue''')\n",
    "p1 = cursor.fetchall() #retrieve the first row\n",
    "for m in p1:\n",
    "    print(m)"
   ]
  },
  {
   "cell_type": "code",
   "execution_count": 51,
   "metadata": {
    "collapsed": true
   },
   "outputs": [],
   "source": [
    "db.commit()"
   ]
  },
  {
   "cell_type": "code",
   "execution_count": 64,
   "metadata": {},
   "outputs": [
    {
     "ename": "OperationalError",
     "evalue": "table Events already exists",
     "output_type": "error",
     "traceback": [
      "\u001b[1;31m---------------------------------------------------------------------------\u001b[0m",
      "\u001b[1;31mOperationalError\u001b[0m                          Traceback (most recent call last)",
      "\u001b[1;32m<ipython-input-64-c08a25fa3aa6>\u001b[0m in \u001b[0;36m<module>\u001b[1;34m()\u001b[0m\n\u001b[0;32m      1\u001b[0m \u001b[1;33m\u001b[0m\u001b[0m\n\u001b[1;32m----> 2\u001b[1;33m \u001b[0mcursor\u001b[0m\u001b[1;33m.\u001b[0m\u001b[0mexecute\u001b[0m\u001b[1;33m(\u001b[0m\u001b[1;34m''' CREATE TABLE Events(EventID integer PRIMARY KEY, Event Creator text, Venue text, Capacity integer, RemainingSpots integer, Fee_USD integer, Duration_hrs integer, DateTime date, Type text    )'''\u001b[0m\u001b[1;33m)\u001b[0m\u001b[1;33m\u001b[0m\u001b[0m\n\u001b[0m",
      "\u001b[1;31mOperationalError\u001b[0m: table Events already exists"
     ]
    }
   ],
   "source": [
    "\n",
    "cursor.execute(''' CREATE TABLE Events(EventID integer PRIMARY KEY, Event Creator text, Venue text, Capacity integer, RemainingSpots integer, Fee_USD integer, Duration_hrs integer, DateTime date, Type text    )''')"
   ]
  },
  {
   "cell_type": "code",
   "execution_count": 68,
   "metadata": {},
   "outputs": [
    {
     "data": {
      "text/plain": [
       "<sqlite3.Cursor at 0x2961eb4e30>"
      ]
     },
     "execution_count": 68,
     "metadata": {},
     "output_type": "execute_result"
    }
   ],
   "source": [
    "cursor.execute(''' INSERT INTO Events VALUES (?,?,?,?,?,?,?,?,?)''',(1, \"Rutwick\", \"Zilker Park\", 100, 42, 5, 3, 7/30/19, \"football\" ))"
   ]
  },
  {
   "cell_type": "code",
   "execution_count": 70,
   "metadata": {},
   "outputs": [
    {
     "data": {
      "text/plain": [
       "<sqlite3.Cursor at 0x2961eb4e30>"
      ]
     },
     "execution_count": 70,
     "metadata": {},
     "output_type": "execute_result"
    }
   ],
   "source": [
    "cursor.execute(''' INSERT INTO Events VALUES (?,?,?,?,?,?,?,?,?)''',(2, \"Shivang\", \"UT Intramural Fields\", 22, 7, 0, 3, 7/31/19, \"football\" ))"
   ]
  },
  {
   "cell_type": "code",
   "execution_count": 69,
   "metadata": {
    "collapsed": true
   },
   "outputs": [],
   "source": [
    "db.commit()"
   ]
  },
  {
   "cell_type": "code",
   "execution_count": 61,
   "metadata": {},
   "outputs": [],
   "source": [
    "#Function to add a new user\n",
    "\n",
    "def new_user(email,name,sname,password,zipcode,phone,etype1,etype2=\"\",etype3=\"\"):\n",
    "    db=sqlite3.connect(\"E:/Usr/UT_APAD/Project 1/Advanced-Programming-and-App-Development/Project1.db\")\n",
    "    cursor = db.cursor()\n",
    "    cursor.execute('''Insert into Users (email,name,sname,password,zipcode,phone,etype1,etype2,etype3) values (?,?,?,?,?,?,?,?,?)''',(email,name,sname,password,zipcode,phone,etype1,etype2,etype3))\n",
    "    db.commit()\n",
    "    \n",
    "\n",
    "    "
   ]
  },
  {
   "cell_type": "code",
   "execution_count": 62,
   "metadata": {},
   "outputs": [
    {
     "ename": "OperationalError",
     "evalue": "database is locked",
     "output_type": "error",
     "traceback": [
      "\u001b[1;31m---------------------------------------------------------------------------\u001b[0m",
      "\u001b[1;31mOperationalError\u001b[0m                          Traceback (most recent call last)",
      "\u001b[1;32m<ipython-input-62-4cf913e15e49>\u001b[0m in \u001b[0;36m<module>\u001b[1;34m\u001b[0m\n\u001b[1;32m----> 1\u001b[1;33m \u001b[0mnew_user\u001b[0m\u001b[1;33m(\u001b[0m\u001b[1;34m\"tmuller@bayern.net\"\u001b[0m\u001b[1;33m,\u001b[0m\u001b[1;34m\"Thomas\"\u001b[0m\u001b[1;33m,\u001b[0m\u001b[1;34m\"Muelles\"\u001b[0m\u001b[1;33m,\u001b[0m\u001b[1;36m4124\u001b[0m\u001b[1;33m,\u001b[0m\u001b[1;36m78710\u001b[0m\u001b[1;33m,\u001b[0m\u001b[1;36m9013331123\u001b[0m\u001b[1;33m,\u001b[0m\u001b[1;34m\"football\"\u001b[0m\u001b[1;33m,\u001b[0m\u001b[1;34m\"Cricket\"\u001b[0m\u001b[1;33m,\u001b[0m\u001b[1;34m\"Basketball\"\u001b[0m\u001b[1;33m)\u001b[0m\u001b[1;33m\u001b[0m\u001b[1;33m\u001b[0m\u001b[0m\n\u001b[0m",
      "\u001b[1;32m<ipython-input-61-1e09a2d35193>\u001b[0m in \u001b[0;36mnew_user\u001b[1;34m(email, name, sname, password, zipcode, phone, etype1, etype2, etype3)\u001b[0m\n\u001b[0;32m      4\u001b[0m     \u001b[0mdb\u001b[0m\u001b[1;33m=\u001b[0m\u001b[0msqlite3\u001b[0m\u001b[1;33m.\u001b[0m\u001b[0mconnect\u001b[0m\u001b[1;33m(\u001b[0m\u001b[1;34m\"E:/Usr/UT_APAD/Project 1/Advanced-Programming-and-App-Development/Project1.db\"\u001b[0m\u001b[1;33m)\u001b[0m\u001b[1;33m\u001b[0m\u001b[1;33m\u001b[0m\u001b[0m\n\u001b[0;32m      5\u001b[0m     \u001b[0mcursor\u001b[0m \u001b[1;33m=\u001b[0m \u001b[0mdb\u001b[0m\u001b[1;33m.\u001b[0m\u001b[0mcursor\u001b[0m\u001b[1;33m(\u001b[0m\u001b[1;33m)\u001b[0m\u001b[1;33m\u001b[0m\u001b[1;33m\u001b[0m\u001b[0m\n\u001b[1;32m----> 6\u001b[1;33m     \u001b[0mcursor\u001b[0m\u001b[1;33m.\u001b[0m\u001b[0mexecute\u001b[0m\u001b[1;33m(\u001b[0m\u001b[1;34m'''Insert into Users (email,name,sname,password,zipcode,phone,etype1,etype2,etype3) values (?,?,?,?,?,?,?,?,?)'''\u001b[0m\u001b[1;33m,\u001b[0m\u001b[1;33m(\u001b[0m\u001b[0memail\u001b[0m\u001b[1;33m,\u001b[0m\u001b[0mname\u001b[0m\u001b[1;33m,\u001b[0m\u001b[0msname\u001b[0m\u001b[1;33m,\u001b[0m\u001b[0mpassword\u001b[0m\u001b[1;33m,\u001b[0m\u001b[0mzipcode\u001b[0m\u001b[1;33m,\u001b[0m\u001b[0mphone\u001b[0m\u001b[1;33m,\u001b[0m\u001b[0metype1\u001b[0m\u001b[1;33m,\u001b[0m\u001b[0metype2\u001b[0m\u001b[1;33m,\u001b[0m\u001b[0metype3\u001b[0m\u001b[1;33m)\u001b[0m\u001b[1;33m)\u001b[0m\u001b[1;33m\u001b[0m\u001b[1;33m\u001b[0m\u001b[0m\n\u001b[0m\u001b[0;32m      7\u001b[0m     \u001b[0mdb\u001b[0m\u001b[1;33m.\u001b[0m\u001b[0mcommit\u001b[0m\u001b[1;33m(\u001b[0m\u001b[1;33m)\u001b[0m\u001b[1;33m\u001b[0m\u001b[1;33m\u001b[0m\u001b[0m\n\u001b[0;32m      8\u001b[0m \u001b[1;33m\u001b[0m\u001b[0m\n",
      "\u001b[1;31mOperationalError\u001b[0m: database is locked"
     ]
    }
   ],
   "source": [
    "new_user(\"tmuller@bayern.net\",\"Thomas\",\"Muelles\",4124,78710,9013331123,\"football\",\"Cricket\",\"Basketball\")    "
   ]
  },
  {
   "cell_type": "code",
   "execution_count": 22,
   "metadata": {},
   "outputs": [
    {
     "data": {
      "text/plain": [
       "<sqlite3.Cursor at 0x1b377240c70>"
      ]
     },
     "execution_count": 22,
     "metadata": {},
     "output_type": "execute_result"
    }
   ],
   "source": [
    "cursor.execute(('''    CREATE TABLE VenueSlots(datetime datetime, venueid INTEGER, availability INTEGER, eventid INTEGER default null, primary key (datetime,venueid),foreign key(eventid) references events(eventid),foreign key(venueid) references venue(venueid))'''))"
   ]
  },
  {
   "cell_type": "code",
   "execution_count": 7,
   "metadata": {},
   "outputs": [
    {
     "name": "stdout",
     "output_type": "stream",
     "text": [
      "(1, 'Zilker Park', ' 2100 Barton Springs Rd, Austin, TX ', 78704, 0)\n",
      "(2, 'UT Intramural Fields', ' 4901 Guadalupe St, Austin, TX ', 78751, 12)\n",
      "(3, 'Hancock Recreation Centre', ' 811 E 41st St, Austin, TX ', 78751, 0)\n",
      "(4, 'Eastwoods Neighborhood Park', ' 3001 Harris Park Ave, Austin, TX ', 78705, 5)\n",
      "(5, 'Pease District Park', ' 31100 Kingsbury St, Austin, TX  ', 78705, 7)\n",
      "(6, 'Westenfield Neighborhood Park', ' 2008 Enfield Rd, Austin, TX   ', 78703, 0)\n",
      "(7, 'Emma Long Metropolitan Park', ' 1600 City Park Rd, Austin, TX  ', 78730, 20)\n",
      "(8, 'Stoney Creek Park', 'Sebastian Bend, Pflugerville, TX', 78660, 0)\n",
      "(9, 'Little Walnut Creek Greenbelt', '5100 E 51st St, Austin, TX ', 78723, 12)\n",
      "(10, 'Caven Lacrosse and Sports Center at Clark Field', '1910 San Jacinto Boulevard, Austin, TX', 78712, 0)\n",
      "(11, 'Waterloo Neighborhood Park', '500 E 12th St, Austin, TX', 78701, 5)\n",
      "(12, 'Longview Neighborhood Park', '7609 Longview Rd, Austin, TX', 78745, 2)\n",
      "(13, 'Mary Moore Searight Metropolitan Park', '907 West Slaughter Lane, Austin, TX', 78748, 2)\n",
      "(14, 'Circle C Ranch Metropolitan Park on Slaughter Creek', '6301 W Slaughter Ln, Austin, TX', 78739, 10)\n"
     ]
    }
   ],
   "source": [
    "p1 = cursor.execute('''select * from venue''')\n",
    "for m in p1:\n",
    "    print(m)"
   ]
  },
  {
   "cell_type": "code",
   "execution_count": 27,
   "metadata": {},
   "outputs": [],
   "source": [
    "from datetime import datetime\n",
    "\n",
    "with open('E:/Usr/UT_APAD/projecttable.csv') as csvfile:\n",
    "    readCSV = csv.reader(csvfile, delimiter=',')\n",
    "    for row in readCSV:\n",
    "        zp = int(row[1])\n",
    "        ph = int(row[2])\n",
    "        cursor.execute(\"INSERT or REPLACE INTO venueslots (datetime,venueid,availability) VALUES (?,?,?)\", [row[0],zp,ph])"
   ]
  },
  {
   "cell_type": "code",
   "execution_count": 60,
   "metadata": {},
   "outputs": [
    {
     "name": "stdout",
     "output_type": "stream",
     "text": [
      "('2019-08-01 08:00:00', 1, 1, None)\n",
      "('2019-08-01 09:00:00', 1, 1, None)\n",
      "('2019-08-01 10:00:00', 1, 1, None)\n",
      "('2019-08-01 11:00:00', 1, 1, None)\n",
      "('2019-08-01 12:00:00', 1, 1, None)\n",
      "('2019-08-01 13:00:00', 1, 1, None)\n",
      "('2019-08-02 08:00:00', 1, 1, None)\n",
      "('2019-08-02 09:00:00', 1, 1, None)\n",
      "('2019-08-02 10:00:00', 1, 1, None)\n",
      "('2019-08-02 11:00:00', 1, 1, None)\n",
      "('2019-08-02 12:00:00', 1, 1, None)\n",
      "('2019-08-02 13:00:00', 1, 1, None)\n",
      "('2019-08-01 08:00:00', 2, 1, None)\n",
      "('2019-08-01 09:00:00', 2, 1, None)\n",
      "('2019-08-01 10:00:00', 2, 1, None)\n",
      "('2019-08-01 11:00:00', 2, 1, None)\n",
      "('2019-08-01 12:00:00', 2, 1, None)\n",
      "('2019-08-01 13:00:00', 2, 1, None)\n",
      "('2019-08-02 08:00:00', 2, 1, None)\n",
      "('2019-08-02 09:00:00', 2, 1, None)\n",
      "('2019-08-02 10:00:00', 2, 1, None)\n",
      "('2019-08-02 11:00:00', 2, 1, None)\n",
      "('2019-08-02 12:00:00', 2, 1, None)\n",
      "('2019-08-02 13:00:00', 2, 1, None)\n",
      "('2019-08-01 08:00:00', 3, 1, None)\n",
      "('2019-08-01 09:00:00', 3, 1, None)\n",
      "('2019-08-01 10:00:00', 3, 1, None)\n",
      "('2019-08-01 11:00:00', 3, 1, None)\n",
      "('2019-08-01 12:00:00', 3, 1, None)\n",
      "('2019-08-01 13:00:00', 3, 1, None)\n",
      "('2019-08-02 08:00:00', 3, 1, None)\n",
      "('2019-08-02 09:00:00', 3, 1, None)\n",
      "('2019-08-02 10:00:00', 3, 1, None)\n",
      "('2019-08-02 11:00:00', 3, 1, None)\n",
      "('2019-08-02 12:00:00', 3, 1, None)\n",
      "('2019-08-02 13:00:00', 3, 1, None)\n",
      "('2019-08-01 08:00:00', 4, 1, None)\n",
      "('2019-08-01 09:00:00', 4, 1, None)\n",
      "('2019-08-01 10:00:00', 4, 1, None)\n",
      "('2019-08-01 11:00:00', 4, 1, None)\n",
      "('2019-08-01 12:00:00', 4, 1, None)\n",
      "('2019-08-01 13:00:00', 4, 1, None)\n",
      "('2019-08-02 08:00:00', 4, 1, None)\n",
      "('2019-08-02 09:00:00', 4, 1, None)\n",
      "('2019-08-02 10:00:00', 4, 1, None)\n",
      "('2019-08-02 11:00:00', 4, 1, None)\n",
      "('2019-08-02 12:00:00', 4, 1, None)\n",
      "('2019-08-02 13:00:00', 4, 1, None)\n",
      "('2019-08-01 08:00:00', 5, 1, None)\n",
      "('2019-08-01 09:00:00', 5, 1, None)\n",
      "('2019-08-01 10:00:00', 5, 1, None)\n",
      "('2019-08-01 11:00:00', 5, 1, None)\n",
      "('2019-08-01 12:00:00', 5, 1, None)\n",
      "('2019-08-01 13:00:00', 5, 1, None)\n",
      "('2019-08-02 08:00:00', 5, 1, None)\n",
      "('2019-08-02 09:00:00', 5, 1, None)\n",
      "('2019-08-02 10:00:00', 5, 1, None)\n",
      "('2019-08-02 11:00:00', 5, 1, None)\n",
      "('2019-08-02 12:00:00', 5, 1, None)\n",
      "('2019-08-02 13:00:00', 5, 1, None)\n",
      "('2019-08-01 08:00:00', 6, 1, None)\n",
      "('2019-08-01 09:00:00', 6, 1, None)\n",
      "('2019-08-01 10:00:00', 6, 1, None)\n",
      "('2019-08-01 11:00:00', 6, 1, None)\n",
      "('2019-08-01 12:00:00', 6, 1, None)\n",
      "('2019-08-01 13:00:00', 6, 1, None)\n",
      "('2019-08-02 08:00:00', 6, 1, None)\n",
      "('2019-08-02 09:00:00', 6, 1, None)\n",
      "('2019-08-02 10:00:00', 6, 1, None)\n",
      "('2019-08-02 11:00:00', 6, 1, None)\n",
      "('2019-08-02 12:00:00', 6, 1, None)\n",
      "('2019-08-02 13:00:00', 6, 1, None)\n",
      "('2019-08-01 08:00:00', 7, 1, None)\n",
      "('2019-08-01 09:00:00', 7, 1, None)\n",
      "('2019-08-01 10:00:00', 7, 1, None)\n",
      "('2019-08-01 11:00:00', 7, 1, None)\n",
      "('2019-08-01 12:00:00', 7, 1, None)\n",
      "('2019-08-01 13:00:00', 7, 1, None)\n",
      "('2019-08-02 08:00:00', 7, 1, None)\n",
      "('2019-08-02 09:00:00', 7, 1, None)\n",
      "('2019-08-02 10:00:00', 7, 1, None)\n",
      "('2019-08-02 11:00:00', 7, 1, None)\n",
      "('2019-08-02 12:00:00', 7, 1, None)\n",
      "('2019-08-02 13:00:00', 7, 1, None)\n",
      "('2019-08-01 08:00:00', 8, 1, None)\n",
      "('2019-08-01 09:00:00', 8, 1, None)\n",
      "('2019-08-01 10:00:00', 8, 1, None)\n",
      "('2019-08-01 11:00:00', 8, 1, None)\n",
      "('2019-08-01 12:00:00', 8, 1, None)\n",
      "('2019-08-01 13:00:00', 8, 1, None)\n",
      "('2019-08-02 08:00:00', 8, 1, None)\n",
      "('2019-08-02 09:00:00', 8, 1, None)\n",
      "('2019-08-02 10:00:00', 8, 1, None)\n",
      "('2019-08-02 11:00:00', 8, 1, None)\n",
      "('2019-08-02 12:00:00', 8, 1, None)\n",
      "('2019-08-02 13:00:00', 8, 1, None)\n",
      "('2019-08-01 08:00:00', 9, 1, None)\n",
      "('2019-08-01 09:00:00', 9, 1, None)\n",
      "('2019-08-01 10:00:00', 9, 1, None)\n",
      "('2019-08-01 11:00:00', 9, 1, None)\n",
      "('2019-08-01 12:00:00', 9, 1, None)\n",
      "('2019-08-01 13:00:00', 9, 1, None)\n",
      "('2019-08-02 08:00:00', 9, 1, None)\n",
      "('2019-08-02 09:00:00', 9, 1, None)\n",
      "('2019-08-02 10:00:00', 9, 1, None)\n",
      "('2019-08-02 11:00:00', 9, 1, None)\n",
      "('2019-08-02 12:00:00', 9, 1, None)\n",
      "('2019-08-02 13:00:00', 9, 1, None)\n",
      "('2019-08-01 08:00:00', 10, 1, None)\n",
      "('2019-08-01 09:00:00', 10, 1, None)\n",
      "('2019-08-01 10:00:00', 10, 1, None)\n",
      "('2019-08-01 11:00:00', 10, 1, None)\n",
      "('2019-08-01 12:00:00', 10, 1, None)\n",
      "('2019-08-01 13:00:00', 10, 1, None)\n",
      "('2019-08-02 08:00:00', 10, 1, None)\n",
      "('2019-08-02 09:00:00', 10, 1, None)\n",
      "('2019-08-02 10:00:00', 10, 1, None)\n",
      "('2019-08-02 11:00:00', 10, 1, None)\n",
      "('2019-08-02 12:00:00', 10, 1, None)\n",
      "('2019-08-02 13:00:00', 10, 1, None)\n",
      "('2019-08-01 08:00:00', 11, 1, None)\n",
      "('2019-08-01 09:00:00', 11, 1, None)\n",
      "('2019-08-01 10:00:00', 11, 1, None)\n",
      "('2019-08-01 11:00:00', 11, 1, None)\n",
      "('2019-08-01 12:00:00', 11, 1, None)\n",
      "('2019-08-01 13:00:00', 11, 1, None)\n",
      "('2019-08-02 08:00:00', 11, 1, None)\n",
      "('2019-08-02 09:00:00', 11, 1, None)\n",
      "('2019-08-02 10:00:00', 11, 1, None)\n",
      "('2019-08-02 11:00:00', 11, 1, None)\n",
      "('2019-08-02 12:00:00', 11, 1, None)\n",
      "('2019-08-02 13:00:00', 11, 1, None)\n",
      "('2019-08-01 08:00:00', 12, 1, None)\n",
      "('2019-08-01 09:00:00', 12, 1, None)\n",
      "('2019-08-01 10:00:00', 12, 1, None)\n",
      "('2019-08-01 11:00:00', 12, 1, None)\n",
      "('2019-08-01 12:00:00', 12, 1, None)\n",
      "('2019-08-01 13:00:00', 12, 1, None)\n",
      "('2019-08-02 08:00:00', 12, 1, None)\n",
      "('2019-08-02 09:00:00', 12, 1, None)\n",
      "('2019-08-02 10:00:00', 12, 1, None)\n",
      "('2019-08-02 11:00:00', 12, 1, None)\n",
      "('2019-08-02 12:00:00', 12, 1, None)\n",
      "('2019-08-02 13:00:00', 12, 1, None)\n",
      "('2019-08-01 08:00:00', 13, 1, None)\n",
      "('2019-08-01 09:00:00', 13, 1, None)\n",
      "('2019-08-01 10:00:00', 13, 1, None)\n",
      "('2019-08-01 11:00:00', 13, 1, None)\n",
      "('2019-08-01 12:00:00', 13, 1, None)\n",
      "('2019-08-01 13:00:00', 13, 1, None)\n",
      "('2019-08-02 08:00:00', 13, 1, None)\n",
      "('2019-08-02 09:00:00', 13, 1, None)\n",
      "('2019-08-02 10:00:00', 13, 1, None)\n",
      "('2019-08-02 11:00:00', 13, 1, None)\n",
      "('2019-08-02 12:00:00', 13, 1, None)\n",
      "('2019-08-02 13:00:00', 13, 1, None)\n",
      "('2019-08-01 08:00:00', 14, 1, None)\n",
      "('2019-08-01 09:00:00', 14, 1, None)\n",
      "('2019-08-01 10:00:00', 14, 1, None)\n",
      "('2019-08-01 11:00:00', 14, 1, None)\n",
      "('2019-08-01 12:00:00', 14, 1, None)\n",
      "('2019-08-01 13:00:00', 14, 1, None)\n",
      "('2019-08-02 08:00:00', 14, 1, None)\n",
      "('2019-08-02 09:00:00', 14, 1, None)\n",
      "('2019-08-02 10:00:00', 14, 1, None)\n",
      "('2019-08-02 11:00:00', 14, 1, None)\n",
      "('2019-08-02 12:00:00', 14, 1, None)\n",
      "('2019-08-02 13:00:00', 14, 1, None)\n"
     ]
    }
   ],
   "source": [
    "pp = cursor.execute('''select * from venueslots''')\n",
    "for m in pp:\n",
    "    print(m)"
   ]
  },
  {
   "cell_type": "code",
   "execution_count": 38,
   "metadata": {},
   "outputs": [
    {
     "ename": "OperationalError",
     "evalue": "table Events already exists",
     "output_type": "error",
     "traceback": [
      "\u001b[1;31m---------------------------------------------------------------------------\u001b[0m",
      "\u001b[1;31mOperationalError\u001b[0m                          Traceback (most recent call last)",
      "\u001b[1;32m<ipython-input-38-ec5776013431>\u001b[0m in \u001b[0;36m<module>\u001b[1;34m\u001b[0m\n\u001b[0;32m      1\u001b[0m \u001b[1;33m\u001b[0m\u001b[0m\n\u001b[1;32m----> 2\u001b[1;33m \u001b[0mcursor\u001b[0m\u001b[1;33m.\u001b[0m\u001b[0mexecute\u001b[0m\u001b[1;33m(\u001b[0m\u001b[1;34m''' CREATE TABLE Events(EventID integer PRIMARY KEY, EventCreator text, Venue text, Capacity integer, RemainingSpots integer, Fee_USD integer, Duration_hrs integer, DateTime datetime, Type text, foreign key(eventcreator) references users(email)  )'''\u001b[0m\u001b[1;33m)\u001b[0m\u001b[1;33m\u001b[0m\u001b[1;33m\u001b[0m\u001b[0m\n\u001b[0m",
      "\u001b[1;31mOperationalError\u001b[0m: table Events already exists"
     ]
    }
   ],
   "source": [
    "\n",
    "cursor.execute(''' CREATE TABLE Events(EventID integer PRIMARY KEY, EventCreator text, Venue text, Capacity integer, RemainingSpots integer, Fee_USD integer, Duration_hrs integer, DateTime datetime, Type text, foreign key(eventcreator) references users(email)  )''')"
   ]
  },
  {
   "cell_type": "code",
   "execution_count": 59,
   "metadata": {},
   "outputs": [],
   "source": [
    "db.commit()"
   ]
  },
  {
   "cell_type": "code",
   "execution_count": 57,
   "metadata": {},
   "outputs": [],
   "source": [
    "# User creates a new event\n",
    "# EventID is selected from the events table\n",
    "# VenueID is selected from the venue table\n",
    "# Venue Slot table is updated\n",
    "\n",
    "def new_event(email,venue,capacity,remaining,fee,duration,datetime,typ):\n",
    "    db=sqlite3.connect(\"E:/Usr/UT_APAD/Project 1/Advanced-Programming-and-App-Development/Project1.db\")\n",
    "    cursor = db.cursor()\n",
    "    cursor.execute('''Insert into events (EventCreator,venue,capacity,remainingspots, fee_usd,duration_hrs,datetime,type) values (?,?,?,?,?,?,?,?)''',(email,venue,capacity,remaining,fee,duration,datetime,typ))\n",
    "    eventid = cursor.execute('''SELECT eventid FROM events ORDER BY eventid DESC LIMIT 1 ''')\n",
    "    venueid = cursor.execute('''SELECT venueid FROM venue where venuename = ? ''',venue)\n",
    "    cursor.execute('''update venueslots set availability = 0 eventid = ? where venueid = ? and datetime between ? and DATETIME(?,'+? hours')''',(eventid,venueid,datetime,datetime,duration))\n",
    "    db.commit()\n",
    "    "
   ]
  },
  {
   "cell_type": "code",
   "execution_count": 58,
   "metadata": {},
   "outputs": [
    {
     "ename": "OperationalError",
     "evalue": "database is locked",
     "output_type": "error",
     "traceback": [
      "\u001b[1;31m---------------------------------------------------------------------------\u001b[0m",
      "\u001b[1;31mOperationalError\u001b[0m                          Traceback (most recent call last)",
      "\u001b[1;32m<ipython-input-58-c2cf717f5543>\u001b[0m in \u001b[0;36m<module>\u001b[1;34m\u001b[0m\n\u001b[1;32m----> 1\u001b[1;33m \u001b[0mnew_event\u001b[0m\u001b[1;33m(\u001b[0m\u001b[1;34m'rutwickbhawsar@gmail.com'\u001b[0m\u001b[1;33m,\u001b[0m\u001b[1;34m'Zilker Park'\u001b[0m\u001b[1;33m,\u001b[0m\u001b[1;36m10\u001b[0m\u001b[1;33m,\u001b[0m\u001b[1;36m10\u001b[0m\u001b[1;33m,\u001b[0m\u001b[1;36m5\u001b[0m\u001b[1;33m,\u001b[0m\u001b[1;36m3\u001b[0m\u001b[1;33m,\u001b[0m\u001b[1;34m'2019-08-02 10:00:00'\u001b[0m\u001b[1;33m,\u001b[0m\u001b[1;34m'football'\u001b[0m\u001b[1;33m)\u001b[0m\u001b[1;33m\u001b[0m\u001b[1;33m\u001b[0m\u001b[0m\n\u001b[0m",
      "\u001b[1;32m<ipython-input-57-663e221e438b>\u001b[0m in \u001b[0;36mnew_event\u001b[1;34m(email, venue, capacity, remaining, fee, duration, datetime, typ)\u001b[0m\n\u001b[0;32m      7\u001b[0m     \u001b[0mdb\u001b[0m\u001b[1;33m=\u001b[0m\u001b[0msqlite3\u001b[0m\u001b[1;33m.\u001b[0m\u001b[0mconnect\u001b[0m\u001b[1;33m(\u001b[0m\u001b[1;34m\"E:/Usr/UT_APAD/Project 1/Advanced-Programming-and-App-Development/Project1.db\"\u001b[0m\u001b[1;33m)\u001b[0m\u001b[1;33m\u001b[0m\u001b[1;33m\u001b[0m\u001b[0m\n\u001b[0;32m      8\u001b[0m     \u001b[0mcursor\u001b[0m \u001b[1;33m=\u001b[0m \u001b[0mdb\u001b[0m\u001b[1;33m.\u001b[0m\u001b[0mcursor\u001b[0m\u001b[1;33m(\u001b[0m\u001b[1;33m)\u001b[0m\u001b[1;33m\u001b[0m\u001b[1;33m\u001b[0m\u001b[0m\n\u001b[1;32m----> 9\u001b[1;33m     \u001b[0mcursor\u001b[0m\u001b[1;33m.\u001b[0m\u001b[0mexecute\u001b[0m\u001b[1;33m(\u001b[0m\u001b[1;34m'''Insert into events (EventCreator,venue,capacity,remainingspots, fee_usd,duration_hrs,datetime,type) values (?,?,?,?,?,?,?,?)'''\u001b[0m\u001b[1;33m,\u001b[0m\u001b[1;33m(\u001b[0m\u001b[0memail\u001b[0m\u001b[1;33m,\u001b[0m\u001b[0mvenue\u001b[0m\u001b[1;33m,\u001b[0m\u001b[0mcapacity\u001b[0m\u001b[1;33m,\u001b[0m\u001b[0mremaining\u001b[0m\u001b[1;33m,\u001b[0m\u001b[0mfee\u001b[0m\u001b[1;33m,\u001b[0m\u001b[0mduration\u001b[0m\u001b[1;33m,\u001b[0m\u001b[0mdatetime\u001b[0m\u001b[1;33m,\u001b[0m\u001b[0mtyp\u001b[0m\u001b[1;33m)\u001b[0m\u001b[1;33m)\u001b[0m\u001b[1;33m\u001b[0m\u001b[1;33m\u001b[0m\u001b[0m\n\u001b[0m\u001b[0;32m     10\u001b[0m     \u001b[0meventid\u001b[0m \u001b[1;33m=\u001b[0m \u001b[0mcursor\u001b[0m\u001b[1;33m.\u001b[0m\u001b[0mexecute\u001b[0m\u001b[1;33m(\u001b[0m\u001b[1;34m'''SELECT eventid FROM events ORDER BY eventid DESC LIMIT 1 '''\u001b[0m\u001b[1;33m)\u001b[0m\u001b[1;33m\u001b[0m\u001b[1;33m\u001b[0m\u001b[0m\n\u001b[0;32m     11\u001b[0m     \u001b[0mvenueid\u001b[0m \u001b[1;33m=\u001b[0m \u001b[0mcursor\u001b[0m\u001b[1;33m.\u001b[0m\u001b[0mexecute\u001b[0m\u001b[1;33m(\u001b[0m\u001b[1;34m'''SELECT venueid FROM venue where venuename = ? '''\u001b[0m\u001b[1;33m,\u001b[0m\u001b[0mvenue\u001b[0m\u001b[1;33m)\u001b[0m\u001b[1;33m\u001b[0m\u001b[1;33m\u001b[0m\u001b[0m\n",
      "\u001b[1;31mOperationalError\u001b[0m: database is locked"
     ]
    }
   ],
   "source": [
    "new_event('rutwickbhawsar@gmail.com','Zilker Park',10,10,5,3,'2019-08-02 10:00:00','football')"
   ]
  },
  {
   "cell_type": "code",
   "execution_count": 63,
   "metadata": {},
   "outputs": [
    {
     "ename": "OperationalError",
     "evalue": "database is locked",
     "output_type": "error",
     "traceback": [
      "\u001b[1;31m---------------------------------------------------------------------------\u001b[0m",
      "\u001b[1;31mOperationalError\u001b[0m                          Traceback (most recent call last)",
      "\u001b[1;32m<ipython-input-63-667556fd87c0>\u001b[0m in \u001b[0;36m<module>\u001b[1;34m\u001b[0m\n\u001b[1;32m----> 1\u001b[1;33m \u001b[0mcursor\u001b[0m\u001b[1;33m.\u001b[0m\u001b[0mexecute\u001b[0m\u001b[1;33m(\u001b[0m\u001b[1;34m''' CREATE TABLE Registered(eventid text,userid text, foreign key(eventid)references events(eventid),foreign key(userid) references users(email))'''\u001b[0m\u001b[1;33m)\u001b[0m\u001b[1;33m\u001b[0m\u001b[1;33m\u001b[0m\u001b[0m\n\u001b[0m",
      "\u001b[1;31mOperationalError\u001b[0m: database is locked"
     ]
    }
   ],
   "source": [
    "cursor.execute(''' CREATE TABLE Registered(eventid text,userid text, foreign key(eventid)references events(eventid),foreign key(userid) references users(email))''')"
   ]
  },
  {
   "cell_type": "code",
   "execution_count": 64,
   "metadata": {},
   "outputs": [],
   "source": [
    "db.commit()"
   ]
  },
  {
   "cell_type": "code",
   "execution_count": null,
   "metadata": {},
   "outputs": [],
   "source": []
  }
 ],
 "metadata": {
  "kernelspec": {
   "display_name": "Python 3",
   "language": "python",
   "name": "python3"
  },
  "language_info": {
   "codemirror_mode": {
    "name": "ipython",
    "version": 3
   },
   "file_extension": ".py",
   "mimetype": "text/x-python",
   "name": "python",
   "nbconvert_exporter": "python",
   "pygments_lexer": "ipython3",
   "version": "3.7.3"
  }
 },
 "nbformat": 4,
 "nbformat_minor": 2
}
